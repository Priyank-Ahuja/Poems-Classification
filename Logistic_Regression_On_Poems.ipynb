{
  "nbformat": 4,
  "nbformat_minor": 0,
  "metadata": {
    "colab": {
      "name": "5. Logistic Regression On.ipynb",
      "version": "0.3.2",
      "provenance": [],
      "collapsed_sections": [
        "qp9s1V8NmBRI",
        "0La118rfmBS1",
        "vsBI_HL1mBT6",
        "Dq2AaSHEmBVv",
        "SnVB1lAZmBWY"
      ]
    },
    "language_info": {
      "codemirror_mode": {
        "name": "ipython",
        "version": 3
      },
      "file_extension": ".py",
      "mimetype": "text/x-python",
      "name": "python",
      "nbconvert_exporter": "python",
      "pygments_lexer": "ipython3",
      "version": "3.6.5"
    },
    "kernelspec": {
      "display_name": "Python 3",
      "language": "python",
      "name": "python3"
    }
  },
  "cells": [
    {
      "metadata": {
        "id": "pJFxOZxFmBOD",
        "colab_type": "text"
      },
      "cell_type": "markdown",
      "source": [
        "#Perfoming Logistic Regression on Poems from poetryfoundation.org\n",
        "\n",
        "Data Source: https://www.kaggle.com/ultrajack/modern-renaissance-poetry\n",
        "\n",
        "Poems from poetryfoundation.org dataset consists of poems from different genres.\n",
        "\n",
        "Number of poems : 573\n",
        "\n",
        "Number of Attributes/Columns in data : 5\n",
        "\n",
        "###Attribute Information:\n",
        "\n",
        "1. author - author name\n",
        "2. content - poem content\n",
        "3. poem name\n",
        "4. Age - poetry style era\n",
        "5. type - category/genre \n",
        "\n",
        "###Objective:\n",
        "\n",
        "Given a poem, determine whether the genre that poem belong to."
      ]
    },
    {
      "metadata": {
        "id": "mgfwKOeYmBOF",
        "colab_type": "code",
        "colab": {}
      },
      "cell_type": "code",
      "source": [
        "# Importing libraries\n",
        "import warnings\n",
        "warnings.filterwarnings(\"ignore\")\n",
        "\n",
        "import sqlite3\n",
        "import pandas as pd\n",
        "import numpy as np\n",
        "import nltk\n",
        "import string\n",
        "import matplotlib.pyplot as plt\n",
        "%matplotlib inline\n",
        "import seaborn as sns\n",
        "from sklearn.feature_extraction.text import TfidfTransformer\n",
        "from sklearn.feature_extraction.text import TfidfVectorizer\n",
        "\n",
        "from sklearn.feature_extraction.text import CountVectorizer\n",
        "from nltk.stem.porter import PorterStemmer\n",
        "\n",
        "import re\n",
        "\n",
        "import string\n",
        "from nltk.corpus import stopwords\n",
        "from nltk.stem import PorterStemmer\n",
        "from nltk.stem.wordnet import WordNetLemmatizer\n",
        "\n",
        "from gensim.models import Word2Vec\n",
        "from gensim.models import KeyedVectors\n",
        "import pickle"
      ],
      "execution_count": 0,
      "outputs": []
    },
    {
      "metadata": {
        "id": "BkghG0AVmBOL",
        "colab_type": "text"
      },
      "cell_type": "markdown",
      "source": [
        "## 1. Reading Data\n",
        "\n",
        "### 1.1. Loading Data\n",
        "\n",
        "The dataset is available in csv file.\n"
      ]
    },
    {
      "metadata": {
        "id": "6SREvENkmBOM",
        "colab_type": "code",
        "colab": {
          "resources": {
            "http://localhost:8080/nbextensions/google.colab/files.js": {
              "data": "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",
              "ok": true,
              "headers": [
                [
                  "content-type",
                  "application/javascript"
                ]
              ],
              "status": 200,
              "status_text": ""
            }
          },
          "base_uri": "https://localhost:8080/",
          "height": 74
        },
        "outputId": "c525eaa4-8f0f-43b0-d34f-a01252841e2d"
      },
      "cell_type": "code",
      "source": [
        "from google.colab import files\n",
        "uploaded = files.upload()"
      ],
      "execution_count": 2,
      "outputs": [
        {
          "output_type": "display_data",
          "data": {
            "text/html": [
              "\n",
              "     <input type=\"file\" id=\"files-6dffc613-23a8-43dc-9214-06c94810c16b\" name=\"files[]\" multiple disabled />\n",
              "     <output id=\"result-6dffc613-23a8-43dc-9214-06c94810c16b\">\n",
              "      Upload widget is only available when the cell has been executed in the\n",
              "      current browser session. Please rerun this cell to enable.\n",
              "      </output>\n",
              "      <script src=\"/nbextensions/google.colab/files.js\"></script> "
            ],
            "text/plain": [
              "<IPython.core.display.HTML object>"
            ]
          },
          "metadata": {
            "tags": []
          }
        },
        {
          "output_type": "stream",
          "text": [
            "Saving all.csv to all (1).csv\n"
          ],
          "name": "stdout"
        }
      ]
    },
    {
      "metadata": {
        "id": "rUO9K1a6m1ep",
        "colab_type": "code",
        "colab": {}
      },
      "cell_type": "code",
      "source": [
        "import io\n",
        "final = pd.read_csv(io.BytesIO(uploaded['all.csv']))"
      ],
      "execution_count": 0,
      "outputs": []
    },
    {
      "metadata": {
        "id": "rRBZSlpjm6Ym",
        "colab_type": "code",
        "colab": {
          "base_uri": "https://localhost:8080/",
          "height": 102
        },
        "outputId": "100fbec3-e10d-4f59-815a-db533175ddf7"
      },
      "cell_type": "code",
      "source": [
        "#Before starting preprocessing lets see the number of entries left\n",
        "print(final.shape)\n",
        "\n",
        "#How many Love, Nature and Mythology poems are present in our dataset?\n",
        "final['type'].value_counts()"
      ],
      "execution_count": 5,
      "outputs": [
        {
          "output_type": "stream",
          "text": [
            "(573, 5)\n"
          ],
          "name": "stdout"
        },
        {
          "output_type": "execute_result",
          "data": {
            "text/plain": [
              "Love                    326\n",
              "Nature                  188\n",
              "Mythology & Folklore     59\n",
              "Name: type, dtype: int64"
            ]
          },
          "metadata": {
            "tags": []
          },
          "execution_count": 5
        }
      ]
    },
    {
      "metadata": {
        "id": "bmiwKoW2mBOq",
        "colab_type": "text"
      },
      "cell_type": "markdown",
      "source": [
        "## 3. Preprocessing \n",
        "\n",
        "### 3.1. Preprocessing Review Text\n",
        "\n",
        "Now data requires some preprocessing before we go on further with analysis and making the prediction model.\n",
        "\n",
        "Hence in the Preprocessing phase we do the following in the order below:-\n",
        "\n",
        "1. Begin by removing the html tags\n",
        "2. Remove any punctuations or limited set of special characters like , or . or # etc.\n",
        "3. Check if the word is made up of english letters and is not alpha-numeric\n",
        "4. Check to see if the length of the word is greater than 2 (as it was researched that there is no adjective in 2-letters)\n",
        "5. Convert the word to lowercase\n",
        "6. Remove Stopwords\n",
        "7. Finally Snowball Stemming the word (it was obsereved to be better than Porter Stemming)\n",
        "\n",
        "After which we collect the words used to describe poems"
      ]
    },
    {
      "metadata": {
        "id": "eWeiHLghmBOs",
        "colab_type": "code",
        "colab": {}
      },
      "cell_type": "code",
      "source": [
        "#set of stopwords in English\n",
        "from nltk.corpus import stopwords\n",
        "stop = set(stopwords.words('english'))\n",
        "words_to_keep = set(('not'))\n",
        "stop -= words_to_keep\n",
        "#initialising the snowball stemmer\n",
        "sno = nltk.stem.SnowballStemmer('english')\n",
        "\n",
        " #function to clean the word of any html-tags\n",
        "def cleanhtml(sentence):\n",
        "    cleanr = re.compile('<.*?>')\n",
        "    cleantext = re.sub(cleanr, ' ', sentence)\n",
        "    return cleantext\n",
        "\n",
        "#function to clean the word of any punctuation or special characters\n",
        "def cleanpunc(sentence): \n",
        "    cleaned = re.sub(r'[?|!|\\'|\"|#]',r'',sentence)\n",
        "    cleaned = re.sub(r'[.|,|)|(|\\|/]',r' ',cleaned)\n",
        "    return  cleaned"
      ],
      "execution_count": 0,
      "outputs": []
    },
    {
      "metadata": {
        "id": "Oxhl-BinmBOx",
        "colab_type": "code",
        "colab": {}
      },
      "cell_type": "code",
      "source": [
        "#Code for removing HTML tags , punctuations . Code for removing stopwords . Code for checking if word is not alphanumeric and\n",
        "# also greater than 2 . Code for stemmimg and also to convert them to lowercase letters \n",
        "i=0\n",
        "str1=' '\n",
        "final_string=[]\n",
        "all_love_words=[] # store words from love poems\n",
        "all_nature_words=[] # store words from nature poems\n",
        "all_mythology_words=[] # store words from mythology poems\n",
        "s=''\n",
        "for sent in final['content'].values:\n",
        "    filtered_sentence=[]\n",
        "    #print(sent);\n",
        "    sent=cleanhtml(sent) # remove HTMl tags\n",
        "    for w in sent.split():\n",
        "        for cleaned_words in cleanpunc(w).split():\n",
        "            if((cleaned_words.isalpha()) & (len(cleaned_words)>2)):    \n",
        "                if(cleaned_words.lower() not in stop):\n",
        "                    s=(sno.stem(cleaned_words.lower())).encode('utf8')\n",
        "                    filtered_sentence.append(s)\n",
        "                    if (final['type'].values)[i] == 'Love': \n",
        "                        all_love_words.append(s) #list of all words used to describe love poems\n",
        "                    if(final['type'].values)[i] == 'Nature':\n",
        "                        all_nature_words.append(s) #list of all words used to describe nature poems\n",
        "                    if (final['type'].values)[i] == 'Mythology & Folklore': \n",
        "                        all_mythology_words.append(s) #list of all words used to describe Mythology & Folklore poems    \n",
        "                else:\n",
        "                    continue\n",
        "            else:\n",
        "                continue \n",
        "    \n",
        "    str1 = b\" \".join(filtered_sentence) #final string of cleaned words\n",
        "    \n",
        "    \n",
        "    final_string.append(str1)\n",
        "    i+=1"
      ],
      "execution_count": 0,
      "outputs": []
    },
    {
      "metadata": {
        "id": "beVhZS60mBO2",
        "colab_type": "code",
        "colab": {
          "base_uri": "https://localhost:8080/",
          "height": 306
        },
        "outputId": "1a2f0506-eb26-4ac3-879c-bf9754b7f504"
      },
      "cell_type": "code",
      "source": [
        "#adding a column of CleanedText which displays the data after pre-processing of the review\n",
        "final['CleanedText']=final_string  \n",
        "final['CleanedText']=final['CleanedText'].str.decode(\"utf-8\")\n",
        "#below the processed review can be seen in the CleanedText Column \n",
        "print('Shape of final',final.shape)\n",
        "final.head()"
      ],
      "execution_count": 9,
      "outputs": [
        {
          "output_type": "stream",
          "text": [
            "Shape of final (573, 6)\n"
          ],
          "name": "stdout"
        },
        {
          "output_type": "execute_result",
          "data": {
            "text/html": [
              "<div>\n",
              "<style scoped>\n",
              "    .dataframe tbody tr th:only-of-type {\n",
              "        vertical-align: middle;\n",
              "    }\n",
              "\n",
              "    .dataframe tbody tr th {\n",
              "        vertical-align: top;\n",
              "    }\n",
              "\n",
              "    .dataframe thead th {\n",
              "        text-align: right;\n",
              "    }\n",
              "</style>\n",
              "<table border=\"1\" class=\"dataframe\">\n",
              "  <thead>\n",
              "    <tr style=\"text-align: right;\">\n",
              "      <th></th>\n",
              "      <th>author</th>\n",
              "      <th>content</th>\n",
              "      <th>poem name</th>\n",
              "      <th>age</th>\n",
              "      <th>type</th>\n",
              "      <th>CleanedText</th>\n",
              "    </tr>\n",
              "  </thead>\n",
              "  <tbody>\n",
              "    <tr>\n",
              "      <th>0</th>\n",
              "      <td>WILLIAM SHAKESPEARE</td>\n",
              "      <td>Let the bird of loudest lay\\r\\nOn the sole Ara...</td>\n",
              "      <td>The Phoenix and the Turtle</td>\n",
              "      <td>Renaissance</td>\n",
              "      <td>Mythology &amp; Folklore</td>\n",
              "      <td>let bird loudest lay sole arabian tree herald ...</td>\n",
              "    </tr>\n",
              "    <tr>\n",
              "      <th>1</th>\n",
              "      <td>DUCHESS OF NEWCASTLE MARGARET CAVENDISH</td>\n",
              "      <td>Sir Charles into my chamber coming in,\\r\\nWhen...</td>\n",
              "      <td>An Epilogue to the Above</td>\n",
              "      <td>Renaissance</td>\n",
              "      <td>Mythology &amp; Folklore</td>\n",
              "      <td>sir charl chamber come write fairi praysaid he...</td>\n",
              "    </tr>\n",
              "    <tr>\n",
              "      <th>2</th>\n",
              "      <td>THOMAS BASTARD</td>\n",
              "      <td>Our vice runs beyond all that old men saw,\\r\\n...</td>\n",
              "      <td>Book 7, Epigram 42</td>\n",
              "      <td>Renaissance</td>\n",
              "      <td>Mythology &amp; Folklore</td>\n",
              "      <td>vice run beyond old men saw far authent law sc...</td>\n",
              "    </tr>\n",
              "    <tr>\n",
              "      <th>3</th>\n",
              "      <td>EDMUND SPENSER</td>\n",
              "      <td>Lo I the man, whose Muse whilome did maske,\\r\\...</td>\n",
              "      <td>from The Faerie Queene: Book I, Canto I</td>\n",
              "      <td>Renaissance</td>\n",
              "      <td>Mythology &amp; Folklore</td>\n",
              "      <td>man whose muse whilom mask time taught lowli s...</td>\n",
              "    </tr>\n",
              "    <tr>\n",
              "      <th>4</th>\n",
              "      <td>RICHARD BARNFIELD</td>\n",
              "      <td>Long have I longd to see my love againe,\\r\\nSt...</td>\n",
              "      <td>Sonnet 16</td>\n",
              "      <td>Renaissance</td>\n",
              "      <td>Mythology &amp; Folklore</td>\n",
              "      <td>long longd see love again still wisht never co...</td>\n",
              "    </tr>\n",
              "  </tbody>\n",
              "</table>\n",
              "</div>"
            ],
            "text/plain": [
              "                                    author  \\\n",
              "0                      WILLIAM SHAKESPEARE   \n",
              "1  DUCHESS OF NEWCASTLE MARGARET CAVENDISH   \n",
              "2                           THOMAS BASTARD   \n",
              "3                           EDMUND SPENSER   \n",
              "4                        RICHARD BARNFIELD   \n",
              "\n",
              "                                             content  \\\n",
              "0  Let the bird of loudest lay\\r\\nOn the sole Ara...   \n",
              "1  Sir Charles into my chamber coming in,\\r\\nWhen...   \n",
              "2  Our vice runs beyond all that old men saw,\\r\\n...   \n",
              "3  Lo I the man, whose Muse whilome did maske,\\r\\...   \n",
              "4  Long have I longd to see my love againe,\\r\\nSt...   \n",
              "\n",
              "                                 poem name          age                  type  \\\n",
              "0               The Phoenix and the Turtle  Renaissance  Mythology & Folklore   \n",
              "1                 An Epilogue to the Above  Renaissance  Mythology & Folklore   \n",
              "2                       Book 7, Epigram 42  Renaissance  Mythology & Folklore   \n",
              "3  from The Faerie Queene: Book I, Canto I  Renaissance  Mythology & Folklore   \n",
              "4                                Sonnet 16  Renaissance  Mythology & Folklore   \n",
              "\n",
              "                                         CleanedText  \n",
              "0  let bird loudest lay sole arabian tree herald ...  \n",
              "1  sir charl chamber come write fairi praysaid he...  \n",
              "2  vice run beyond old men saw far authent law sc...  \n",
              "3  man whose muse whilom mask time taught lowli s...  \n",
              "4  long longd see love again still wisht never co...  "
            ]
          },
          "metadata": {
            "tags": []
          },
          "execution_count": 9
        }
      ]
    },
    {
      "metadata": {
        "id": "rWkxNnwmmBO8",
        "colab_type": "text"
      },
      "cell_type": "markdown",
      "source": [
        "TIME BASED SPLITTING OF SAMPLE DATASET"
      ]
    },
    {
      "metadata": {
        "id": "bgyd0oebmBO9",
        "colab_type": "code",
        "colab": {}
      },
      "cell_type": "code",
      "source": [
        "from sklearn.model_selection import train_test_split\n",
        "\n",
        "x = final['CleanedText'].values\n",
        "y = final['type']\n",
        "\n",
        "# split the data set into train and test\n",
        "X_train, X_test, Y_train, Y_test = train_test_split(x, y, test_size=0.3, random_state=0)"
      ],
      "execution_count": 0,
      "outputs": []
    },
    {
      "metadata": {
        "id": "R0RdgVt8mBPC",
        "colab_type": "text"
      },
      "cell_type": "markdown",
      "source": [
        "# (1). Bag of Words (BoW)"
      ]
    },
    {
      "metadata": {
        "id": "JxipXagwmBPE",
        "colab_type": "code",
        "colab": {
          "base_uri": "https://localhost:8080/",
          "height": 68
        },
        "outputId": "d11c1296-5f4b-44b7-846e-5a695919d16a"
      },
      "cell_type": "code",
      "source": [
        "#BoW\n",
        "count_vect = CountVectorizer(min_df = 50) \n",
        "X_train_vec = count_vect.fit_transform(X_train)\n",
        "X_test_vec = count_vect.transform(X_test)\n",
        "print(\"the type of count vectorizer :\",type(X_train_vec))\n",
        "print(\"the shape of out text BOW vectorizer : \",X_train_vec.get_shape())\n",
        "print(\"the number of unique words :\", X_train_vec.get_shape()[1])"
      ],
      "execution_count": 12,
      "outputs": [
        {
          "output_type": "stream",
          "text": [
            "the type of count vectorizer : <class 'scipy.sparse.csr.csr_matrix'>\n",
            "the shape of out text BOW vectorizer :  (401, 52)\n",
            "the number of unique words : 52\n"
          ],
          "name": "stdout"
        }
      ]
    },
    {
      "metadata": {
        "id": "dUG4zi19mBPK",
        "colab_type": "code",
        "colab": {}
      },
      "cell_type": "code",
      "source": [
        "import warnings\n",
        "warnings.filterwarnings('ignore')\n",
        "# Data-preprocessing: Standardizing the data\n",
        "\n",
        "from sklearn.preprocessing import StandardScaler\n",
        "sc = StandardScaler(with_mean=False)\n",
        "X_train_vec_standardized = sc.fit_transform(X_train_vec)\n",
        "X_test_vec_standardized = sc.transform(X_test_vec)"
      ],
      "execution_count": 0,
      "outputs": []
    },
    {
      "metadata": {
        "id": "cDm-JJnemBPS",
        "colab_type": "text"
      },
      "cell_type": "markdown",
      "source": [
        "# (1.a) L2 Regularisation (Logistic Regression)"
      ]
    },
    {
      "metadata": {
        "id": "Se4fpPK7mBPU",
        "colab_type": "code",
        "colab": {}
      },
      "cell_type": "code",
      "source": [
        "# Importing libraries\n",
        "from sklearn.linear_model import LogisticRegression\n",
        "from sklearn.model_selection import GridSearchCV\n",
        "from sklearn.model_selection import RandomizedSearchCV"
      ],
      "execution_count": 0,
      "outputs": []
    },
    {
      "metadata": {
        "id": "2O8yuzKBmBPc",
        "colab_type": "text"
      },
      "cell_type": "markdown",
      "source": [
        "# GridSearchCV Implementation"
      ]
    },
    {
      "metadata": {
        "id": "0nCRbe41mBPg",
        "colab_type": "code",
        "colab": {
          "base_uri": "https://localhost:8080/",
          "height": 136
        },
        "outputId": "115fbfb2-409d-4ab7-8a89-00c3d5b6f57a"
      },
      "cell_type": "code",
      "source": [
        "# Importing libraries for accuracy metrics\n",
        "from sklearn.metrics import accuracy_score,confusion_matrix,f1_score,precision_score,recall_score\n",
        "\n",
        "tuned_parameters = [{'C': [10**-4, 10**-2, 10**0, 10**2, 10**4]}]\n",
        "#Using GridSearchCV\n",
        "model = GridSearchCV(LogisticRegression(penalty='l2'), tuned_parameters, scoring = 'accuracy', cv=3 ,n_jobs=-1, pre_dispatch=2)\n",
        "model.fit(X_train_vec_standardized, Y_train)\n",
        "print(\"Model with best parameters :\\n\",model.best_estimator_)\n",
        "print(\"Accuracy of the model : \",model.score(X_test_vec_standardized, Y_test))\n",
        "\n",
        "optimal_C = model.best_estimator_.C\n",
        "print(\"The optimal value of C(1/lambda) is : \",optimal_C)"
      ],
      "execution_count": 15,
      "outputs": [
        {
          "output_type": "stream",
          "text": [
            "Model with best parameters :\n",
            " LogisticRegression(C=0.0001, class_weight=None, dual=False,\n",
            "          fit_intercept=True, intercept_scaling=1, max_iter=100,\n",
            "          multi_class='warn', n_jobs=None, penalty='l2', random_state=None,\n",
            "          solver='warn', tol=0.0001, verbose=0, warm_start=False)\n",
            "Accuracy of the model :  0.5755813953488372\n",
            "The optimal value of C(1/lambda) is :  0.0001\n"
          ],
          "name": "stdout"
        }
      ]
    },
    {
      "metadata": {
        "id": "Jn5FGl4MmBPr",
        "colab_type": "code",
        "colab": {}
      },
      "cell_type": "code",
      "source": [
        "# Logistic Regression with Optimal value of C i.e.(1/lambda)\n",
        "lr = LogisticRegression(penalty='l2', C=optimal_C, n_jobs=-1)\n",
        "lr.fit(X_train_vec_standardized,Y_train)\n",
        "predictions = lr.predict(X_test_vec_standardized)\n",
        "\n",
        "# Variables that will be used for  making table in Conclusion part of this assignment\n",
        "bow_l2_grid_C = optimal_C\n",
        "bow_l2_grid_train_acc = model.score(X_test_vec_standardized, Y_test)*100\n",
        "bow_l2_grid_test_acc = accuracy_score(Y_test, predictions) * 100"
      ],
      "execution_count": 0,
      "outputs": []
    },
    {
      "metadata": {
        "id": "IY7fpVl4mBP7",
        "colab_type": "text"
      },
      "cell_type": "markdown",
      "source": [
        "SEABORN HEATMAP FOR REPRESENTATION OF CONFUSION MATRIX :"
      ]
    },
    {
      "metadata": {
        "id": "s5PWlLovmBP9",
        "colab_type": "code",
        "colab": {
          "base_uri": "https://localhost:8080/",
          "height": 502
        },
        "outputId": "9a4829e3-9681-49c7-e57f-18ffd1dd2883"
      },
      "cell_type": "code",
      "source": [
        "# Code for drawing seaborn heatmaps\n",
        "class_names = ['Nature','Mythology & Folklore', 'Nature']\n",
        "df_heatmap = pd.DataFrame(confusion_matrix(Y_test, predictions), index=class_names, columns=class_names )\n",
        "fig = plt.figure(figsize=(10,7))\n",
        "heatmap = sns.heatmap(df_heatmap, annot=True, fmt=\"d\")\n",
        "\n",
        "# Setting tick labels for heatmap\n",
        "heatmap.yaxis.set_ticklabels(heatmap.yaxis.get_ticklabels(), rotation=0, ha='right', fontsize=14)\n",
        "heatmap.xaxis.set_ticklabels(heatmap.xaxis.get_ticklabels(), rotation=0, ha='right', fontsize=14)\n",
        "plt.ylabel('Predicted label',size=18)\n",
        "plt.xlabel('True label',size=18)\n",
        "plt.title(\"Confusion Matrix\\n\",size=24)\n",
        "plt.show()"
      ],
      "execution_count": 18,
      "outputs": [
        {
          "output_type": "display_data",
          "data": {
            "image/png": "[encoded data removed]",
            "text/plain": [
              "<Figure size 720x504 with 2 Axes>"
            ]
          },
          "metadata": {
            "tags": []
          }
        }
      ]
    },
    {
      "metadata": {
        "id": "pbyQE38hmBQH",
        "colab_type": "text"
      },
      "cell_type": "markdown",
      "source": [
        "MULTI-COLLINEARITY CHECK (PERTUBATION TECHNIQUE):"
      ]
    },
    {
      "metadata": {
        "id": "UugHvvBgmBQI",
        "colab_type": "code",
        "colab": {
          "base_uri": "https://localhost:8080/",
          "height": 51
        },
        "outputId": "9840545a-7aaf-45e4-d936-c1592a074c03"
      },
      "cell_type": "code",
      "source": [
        "import scipy as sp\n",
        "epsilon = sp.stats.distributions.norm.rvs(loc=0,scale=0.0001)\n",
        "# Vector before the addition of epsilon\n",
        "W_before_epsilon = lr.coef_\n",
        "\n",
        "# Number of non zero elements in X_train_vec_standardized sparse matrix\n",
        "no_of_non_zero = X_train_vec_standardized.count_nonzero()\n",
        "\n",
        "# Importing library to create a sparse matrix of epsilon\n",
        "from scipy.sparse import csr_matrix\n",
        "\n",
        "# Creating new sparse matrix with epsilon at same position of non-zero elements of X_train_vec_standardized\n",
        "indices_X_train = X_train_vec_standardized.indices\n",
        "indptr_X_train = X_train_vec_standardized.indptr\n",
        "\n",
        "# Creating a list of same element with repetition\n",
        "data = [epsilon] * no_of_non_zero\n",
        "Shape = X_train_vec_standardized.shape\n",
        "\n",
        "# Creating sparse matrix\n",
        "sparse_epsilon = csr_matrix((data,indices_X_train,indptr_X_train),shape=Shape,dtype=float)\n",
        "\n",
        "# Add sparse_epsilon and X-train_vec_standardized to get a new sparse matrix with epsilon added to each \n",
        "# non-zero element of X_train_vec_standardized\n",
        "epsilon_train = X_train_vec_standardized + sparse_epsilon\n",
        "\n",
        "print(X_train_vec_standardized.shape)\n",
        "print(epsilon_train.shape)"
      ],
      "execution_count": 19,
      "outputs": [
        {
          "output_type": "stream",
          "text": [
            "(401, 52)\n",
            "(401, 52)\n"
          ],
          "name": "stdout"
        }
      ]
    },
    {
      "metadata": {
        "id": "Z9IwSloSmBQO",
        "colab_type": "code",
        "colab": {
          "base_uri": "https://localhost:8080/",
          "height": 102
        },
        "outputId": "e1490a58-ca68-4a44-de3a-d2b8e2fd8fc8"
      },
      "cell_type": "code",
      "source": [
        "# training Logistic Regression Classifier with epsilon_train\n",
        "epsilon_lr = LogisticRegression(penalty='l2', C=optimal_C, n_jobs=-1)\n",
        "epsilon_lr.fit(epsilon_train,Y_train)\n",
        "\n",
        "# Vector after the addition of epsilon\n",
        "W_after_epsilon = epsilon_lr.coef_\n",
        "\n",
        "# Change in vectors after adding epsilon\n",
        "change_vector = W_after_epsilon - W_before_epsilon\n",
        "\n",
        "# Sort this change_vector array after making all the elements positive in ascending order to visualize the change\n",
        "sorted_change_vector = np.sort(np.absolute(change_vector))[:,::-1]\n",
        "\n",
        "sorted_change_vector[0,0:20]"
      ],
      "execution_count": 20,
      "outputs": [
        {
          "output_type": "execute_result",
          "data": {
            "text/plain": [
              "array([3.60420459e-08, 1.52042691e-08, 1.22927607e-08, 1.19667102e-08,\n",
              "       1.18092115e-08, 1.10444874e-08, 1.05743025e-08, 9.91319276e-09,\n",
              "       9.86109150e-09, 9.11652746e-09, 7.91102975e-09, 7.80629831e-09,\n",
              "       7.75628286e-09, 7.19728143e-09, 7.08877160e-09, 6.71503607e-09,\n",
              "       6.71472854e-09, 6.64248790e-09, 5.87375423e-09, 5.67915505e-09])"
            ]
          },
          "metadata": {
            "tags": []
          },
          "execution_count": 20
        }
      ]
    },
    {
      "metadata": {
        "id": "9reJzPnrmBQT",
        "colab_type": "text"
      },
      "cell_type": "markdown",
      "source": [
        "OBSERVATION :- From above we can see that there is no large change in the weights of the both vectors ."
      ]
    },
    {
      "metadata": {
        "id": "6K_FrSa6mBQe",
        "colab_type": "text"
      },
      "cell_type": "markdown",
      "source": [
        "# RandomizedSearchCV Implementation"
      ]
    },
    {
      "metadata": {
        "id": "vTFAH6SdmBQf",
        "colab_type": "code",
        "colab": {
          "base_uri": "https://localhost:8080/",
          "height": 136
        },
        "outputId": "e69f82c3-b940-42eb-e022-bfee7502ce9b"
      },
      "cell_type": "code",
      "source": [
        "# Load libraries\n",
        "from scipy.stats import uniform\n",
        "\n",
        "# Create regularization hyperparameter distribution using uniform distribution\n",
        "C = uniform(loc=0, scale=10)\n",
        "\n",
        "# Create hyperparameter options\n",
        "hyperparameters = dict(C=C)\n",
        "\n",
        "#Using RandomizedSearchCV\n",
        "model = RandomizedSearchCV(LogisticRegression(penalty='l2'), hyperparameters, scoring='accuracy', cv=3,n_jobs=-1,pre_dispatch=2)\n",
        "model.fit(X_train_vec_standardized, Y_train)\n",
        "print(\"Model with best parameters :\\n\",model.best_estimator_)\n",
        "print(\"Accuracy of the model : \",model.score(X_test_vec_standardized, Y_test))\n",
        "\n",
        "optimal_C = model.best_estimator_.C\n",
        "print(\"The optimal value of C(1/lambda) is : \",optimal_C)\n",
        "\n",
        "# Logistic Regression with Optimal value of C i.e.(1/lambda)\n",
        "lr = LogisticRegression(penalty='l2', C=optimal_C, n_jobs=-1)\n",
        "lr.fit(X_train_vec_standardized,Y_train)\n",
        "predictions = lr.predict(X_test_vec_standardized)\n",
        "\n",
        "# Variables that will be used for  making table in Conclusion part of this assignment\n",
        "bow_l2_random_C = optimal_C\n",
        "bow_l2_random_train_acc = model.score(X_test_vec_standardized, Y_test)*100\n",
        "bow_l2_random_test_acc = accuracy_score(Y_test, predictions) * 100"
      ],
      "execution_count": 22,
      "outputs": [
        {
          "output_type": "stream",
          "text": [
            "Model with best parameters :\n",
            " LogisticRegression(C=0.08928012502445681, class_weight=None, dual=False,\n",
            "          fit_intercept=True, intercept_scaling=1, max_iter=100,\n",
            "          multi_class='warn', n_jobs=None, penalty='l2', random_state=None,\n",
            "          solver='warn', tol=0.0001, verbose=0, warm_start=False)\n",
            "Accuracy of the model :  0.6104651162790697\n",
            "The optimal value of C(1/lambda) is :  0.08928012502445681\n"
          ],
          "name": "stdout"
        }
      ]
    },
    {
      "metadata": {
        "id": "bQQ7p5ekmBQr",
        "colab_type": "text"
      },
      "cell_type": "markdown",
      "source": [
        "SEABORN HEATMAP FOR REPRESENTATION OF CONFUSION MATRIX :"
      ]
    },
    {
      "metadata": {
        "id": "1zRGRXLZmBQs",
        "colab_type": "code",
        "colab": {
          "base_uri": "https://localhost:8080/",
          "height": 502
        },
        "outputId": "63b343db-e98f-4a4f-e88c-25f834ff4c35"
      },
      "cell_type": "code",
      "source": [
        "# Code for drawing seaborn heatmaps\n",
        "class_names = ['Nature','Mythology & Folklore', 'Nature']\n",
        "df_heatmap = pd.DataFrame(confusion_matrix(Y_test, predictions), index=class_names, columns=class_names )\n",
        "fig = plt.figure(figsize=(10,7))\n",
        "heatmap = sns.heatmap(df_heatmap, annot=True, fmt=\"d\")\n",
        "\n",
        "# Setting tick labels for heatmap\n",
        "heatmap.yaxis.set_ticklabels(heatmap.yaxis.get_ticklabels(), rotation=0, ha='right', fontsize=14)\n",
        "heatmap.xaxis.set_ticklabels(heatmap.xaxis.get_ticklabels(), rotation=0, ha='right', fontsize=14)\n",
        "plt.ylabel('Predicted label',size=18)\n",
        "plt.xlabel('True label',size=18)\n",
        "plt.title(\"Confusion Matrix\\n\",size=24)\n",
        "plt.show()"
      ],
      "execution_count": 23,
      "outputs": [
        {
          "output_type": "display_data",
          "data": {
            "image/png": "[encoded data removed]",
            "text/plain": [
              "<Figure size 720x504 with 2 Axes>"
            ]
          },
          "metadata": {
            "tags": []
          }
        }
      ]
    },
    {
      "metadata": {
        "id": "K7hw9_63mBQx",
        "colab_type": "text"
      },
      "cell_type": "markdown",
      "source": [
        "MULTI-COLLINEARITY CHECK (PERTUBATION TECHNIQUE):"
      ]
    },
    {
      "metadata": {
        "id": "9D1LzUhJmBQy",
        "colab_type": "code",
        "colab": {
          "base_uri": "https://localhost:8080/",
          "height": 102
        },
        "outputId": "1014e9ec-a43f-4b7f-ef9e-12bc51f80003"
      },
      "cell_type": "code",
      "source": [
        "epsilon = sp.stats.distributions.norm.rvs(loc=0,scale=0.0001)\n",
        "# Vector before the addition of epsilon\n",
        "W_before_epsilon = lr.coef_\n",
        "# Number of non zero elements in X_train_vec_standardized sparse matrix\n",
        "no_of_non_zero = X_train_vec_standardized.count_nonzero()\n",
        "\n",
        "# Creating new sparse matrix with epsilon at same position of non-zero elements of X_train_vec_standardized\n",
        "indices_X_train = X_train_vec_standardized.indices\n",
        "indptr_X_train = X_train_vec_standardized.indptr\n",
        "\n",
        "# Creating a list of same element with repetition\n",
        "data = [epsilon] * no_of_non_zero\n",
        "Shape = X_train_vec_standardized.shape\n",
        "\n",
        "# Creating sparse matrix\n",
        "sparse_epsilon = csr_matrix((data,indices_X_train,indptr_X_train),shape=Shape,dtype=float)\n",
        "\n",
        "# Add sparse_epsilon and X-train_vec_standardized to get a new sparse matrix with epsilon added to each \n",
        "# non-zero element of X_train_vec_standardized\n",
        "epsilon_train = X_train_vec_standardized + sparse_epsilon\n",
        "\n",
        "# training Logistic Regression Classifier with epsilon_train\n",
        "epsilon_lr = LogisticRegression(penalty='l2', C=optimal_C, n_jobs=-1)\n",
        "epsilon_lr.fit(epsilon_train,Y_train)\n",
        "\n",
        "# Vector after the addition of epsilon\n",
        "W_after_epsilon = epsilon_lr.coef_\n",
        "\n",
        "# Change in vectors after adding epsilon\n",
        "change_vector = W_after_epsilon - W_before_epsilon\n",
        "# Sort this change_vector array after making all the elements positive in ascending order to visualize the change\n",
        "sorted_change_vector = np.sort(np.absolute(change_vector))[:,::-1]\n",
        "\n",
        "sorted_change_vector[0,0:20]"
      ],
      "execution_count": 24,
      "outputs": [
        {
          "output_type": "execute_result",
          "data": {
            "text/plain": [
              "array([1.32767568e-05, 9.91066286e-06, 8.47544294e-06, 8.20430112e-06,\n",
              "       7.29917977e-06, 7.05235058e-06, 6.89800372e-06, 6.81869993e-06,\n",
              "       6.22160437e-06, 6.13080728e-06, 5.22912627e-06, 4.95795499e-06,\n",
              "       4.89355584e-06, 4.58841139e-06, 4.40887713e-06, 4.27994979e-06,\n",
              "       4.11844589e-06, 4.10731051e-06, 3.97073723e-06, 3.80031454e-06])"
            ]
          },
          "metadata": {
            "tags": []
          },
          "execution_count": 24
        }
      ]
    },
    {
      "metadata": {
        "id": "eHayIlGAmBRA",
        "colab_type": "text"
      },
      "cell_type": "markdown",
      "source": [
        "OBSERVATION :- From above we can see that there is no large change in the weights of the both vectors ."
      ]
    },
    {
      "metadata": {
        "id": "qp9s1V8NmBRI",
        "colab_type": "text"
      },
      "cell_type": "markdown",
      "source": [
        "# (1.b) L1 Regularisation (Logistic regression)"
      ]
    },
    {
      "metadata": {
        "id": "moB6HjmfmBRJ",
        "colab_type": "text"
      },
      "cell_type": "markdown",
      "source": [
        "# GridSearchCV Implementation"
      ]
    },
    {
      "metadata": {
        "id": "JQjcn5HCmBRK",
        "colab_type": "code",
        "colab": {
          "base_uri": "https://localhost:8080/",
          "height": 136
        },
        "outputId": "69d5babf-22c7-4d8c-b499-41b79435d3fe"
      },
      "cell_type": "code",
      "source": [
        "tuned_parameters = [{'C': [10**-4, 10**-2, 10**0, 10**2, 10**4]}]\n",
        "#Using GridSearchCV\n",
        "model = GridSearchCV(LogisticRegression(penalty='l1'), tuned_parameters, scoring = 'accuracy', cv=3 ,n_jobs=-1, pre_dispatch=2)\n",
        "model.fit(X_train_vec_standardized, Y_train)\n",
        "print(\"Model with best parameters :\\n\",model.best_estimator_)\n",
        "print(\"Accuracy of the model : \",model.score(X_test_vec_standardized, Y_test))\n",
        "\n",
        "optimal_C = model.best_estimator_.C\n",
        "print(\"The optimal value of C(1/lambda) is : \",optimal_C)\n",
        "\n",
        "# Logistic Regression with Optimal value of C i.e.(1/lambda)\n",
        "lr = LogisticRegression(penalty='l1', C=optimal_C, n_jobs=-1)\n",
        "lr.fit(X_train_vec_standardized,Y_train)\n",
        "predictions = lr.predict(X_test_vec_standardized)\n",
        "\n",
        "# Variables that will be used for  making table in Conclusion part of this assignment\n",
        "bow_l1_grid_C = optimal_C\n",
        "bow_l1_grid_train_acc = model.score(X_test_vec_standardized, Y_test)*100\n",
        "bow_l1_grid_test_acc = accuracy_score(Y_test, predictions) * 100"
      ],
      "execution_count": 25,
      "outputs": [
        {
          "output_type": "stream",
          "text": [
            "Model with best parameters :\n",
            " LogisticRegression(C=1, class_weight=None, dual=False, fit_intercept=True,\n",
            "          intercept_scaling=1, max_iter=100, multi_class='warn',\n",
            "          n_jobs=None, penalty='l1', random_state=None, solver='warn',\n",
            "          tol=0.0001, verbose=0, warm_start=False)\n",
            "Accuracy of the model :  0.6162790697674418\n",
            "The optimal value of C(1/lambda) is :  1\n"
          ],
          "name": "stdout"
        }
      ]
    },
    {
      "metadata": {
        "id": "Uvckt4fZmBRY",
        "colab_type": "text"
      },
      "cell_type": "markdown",
      "source": [
        "SEABORN HEATMAP FOR REPRESENTATION OF CONFUSION MATRIX :"
      ]
    },
    {
      "metadata": {
        "id": "VyCWVp3AmBRb",
        "colab_type": "code",
        "colab": {
          "base_uri": "https://localhost:8080/",
          "height": 502
        },
        "outputId": "1377a55f-1a3f-4eee-cdfd-8c76d39247d4"
      },
      "cell_type": "code",
      "source": [
        "# Code for drawing seaborn heatmaps\n",
        "class_names = ['Nature','Mythology & Folklore', 'Nature']\n",
        "df_heatmap = pd.DataFrame(confusion_matrix(Y_test, predictions), index=class_names, columns=class_names )\n",
        "fig = plt.figure(figsize=(10,7))\n",
        "heatmap = sns.heatmap(df_heatmap, annot=True, fmt=\"d\")\n",
        "\n",
        "# Setting tick labels for heatmap\n",
        "heatmap.yaxis.set_ticklabels(heatmap.yaxis.get_ticklabels(), rotation=0, ha='right', fontsize=14)\n",
        "heatmap.xaxis.set_ticklabels(heatmap.xaxis.get_ticklabels(), rotation=0, ha='right', fontsize=14)\n",
        "plt.ylabel('Predicted label',size=18)\n",
        "plt.xlabel('True label',size=18)\n",
        "plt.title(\"Confusion Matrix\\n\",size=24)\n",
        "plt.show()"
      ],
      "execution_count": 26,
      "outputs": [
        {
          "output_type": "display_data",
          "data": {
            "image/png": "[encoded data removed]",
            "text/plain": [
              "<Figure size 720x504 with 2 Axes>"
            ]
          },
          "metadata": {
            "tags": []
          }
        }
      ]
    },
    {
      "metadata": {
        "id": "liusGfN6mBRj",
        "colab_type": "text"
      },
      "cell_type": "markdown",
      "source": [
        "MULTI-COLLINEARITY CHECK (PERTUBATION TECHNIQUE):"
      ]
    },
    {
      "metadata": {
        "id": "KL29B5kAmBRk",
        "colab_type": "code",
        "colab": {
          "base_uri": "https://localhost:8080/",
          "height": 102
        },
        "outputId": "668a91ff-10da-4997-e3fa-f7f558620f80"
      },
      "cell_type": "code",
      "source": [
        "epsilon = sp.stats.distributions.norm.rvs(loc=0,scale=0.0001)\n",
        "# Vector before the addition of epsilon\n",
        "W_before_epsilon = lr.coef_\n",
        "# Number of non zero elements in X_train_vec_standardized sparse matrix\n",
        "no_of_non_zero = X_train_vec_standardized.count_nonzero()\n",
        "\n",
        "# Creating new sparse matrix with epsilon at same position of non-zero elements of X_train_vec_standardized\n",
        "indices_X_train = X_train_vec_standardized.indices\n",
        "indptr_X_train = X_train_vec_standardized.indptr\n",
        "\n",
        "# Creating a list of same element with repetition\n",
        "data = [epsilon] * no_of_non_zero\n",
        "Shape = X_train_vec_standardized.shape\n",
        "\n",
        "# Creating sparse matrix\n",
        "sparse_epsilon = csr_matrix((data,indices_X_train,indptr_X_train),shape=Shape,dtype=float)\n",
        "\n",
        "# Add sparse_epsilon and X-train_vec_standardized to get a new sparse matrix with epsilon added to each \n",
        "# non-zero element of X_train_vec_standardized\n",
        "epsilon_train = X_train_vec_standardized + sparse_epsilon\n",
        "\n",
        "# training Logistic Regression Classifier with epsilon_train\n",
        "epsilon_lr = LogisticRegression(penalty='l1', C=optimal_C, n_jobs=-1)\n",
        "epsilon_lr.fit(epsilon_train,Y_train)\n",
        "\n",
        "# Vector after the addition of epsilon\n",
        "W_after_epsilon = epsilon_lr.coef_\n",
        "\n",
        "# Change in vectors after adding epsilon\n",
        "change_vector = W_after_epsilon - W_before_epsilon\n",
        "# Sort this change_vector array after making all the elements positive in ascending order to visualize the change\n",
        "sorted_change_vector = np.sort(np.absolute(change_vector))[:,::-1]\n",
        "\n",
        "sorted_change_vector[0,0:20]"
      ],
      "execution_count": 27,
      "outputs": [
        {
          "output_type": "execute_result",
          "data": {
            "text/plain": [
              "array([1.15084167e-04, 6.48798841e-05, 5.97980289e-05, 5.92729694e-05,\n",
              "       5.42482270e-05, 5.18927813e-05, 4.63948637e-05, 4.27438511e-05,\n",
              "       4.18153540e-05, 4.14031621e-05, 4.02852078e-05, 3.59460100e-05,\n",
              "       3.47334186e-05, 3.29451059e-05, 3.28652533e-05, 3.03451145e-05,\n",
              "       2.73498133e-05, 2.31775379e-05, 2.30683851e-05, 2.25581182e-05])"
            ]
          },
          "metadata": {
            "tags": []
          },
          "execution_count": 27
        }
      ]
    },
    {
      "metadata": {
        "id": "n2xggp0mmBRp",
        "colab_type": "text"
      },
      "cell_type": "markdown",
      "source": [
        "OBSERVATION :- From above we can see that there is no large change in the weights of the both vectors ."
      ]
    },
    {
      "metadata": {
        "id": "iFWig2LFmBSI",
        "colab_type": "text"
      },
      "cell_type": "markdown",
      "source": [
        "# RandomizedSearchCV Implementation"
      ]
    },
    {
      "metadata": {
        "id": "1G3hUKuRmBSJ",
        "colab_type": "code",
        "colab": {
          "base_uri": "https://localhost:8080/",
          "height": 136
        },
        "outputId": "039af87e-6941-4fa3-d166-aeab3b75a313"
      },
      "cell_type": "code",
      "source": [
        "# Create regularization hyperparameter distribution using uniform distribution\n",
        "C = uniform(loc=0, scale=10)\n",
        "\n",
        "# Create hyperparameter options\n",
        "hyperparameters = dict(C=C)\n",
        "\n",
        "#Using RandomizedSearchCV\n",
        "model = RandomizedSearchCV(LogisticRegression(penalty='l1'), hyperparameters, scoring='accuracy', cv=3,n_jobs=-1,pre_dispatch=2)\n",
        "model.fit(X_train_vec_standardized, Y_train)\n",
        "print(\"Model with best parameters :\\n\",model.best_estimator_)\n",
        "print(\"Accuracy of the model : \",model.score(X_test_vec_standardized, Y_test))\n",
        "\n",
        "optimal_C = model.best_estimator_.C\n",
        "print(\"The optimal value of C(1/lambda) is : \",optimal_C)\n",
        "\n",
        "# Logistic Regression with Optimal value of C i.e.(1/lambda)\n",
        "lr = LogisticRegression(penalty='l1', C=optimal_C, n_jobs=-1)\n",
        "lr.fit(X_train_vec_standardized,Y_train)\n",
        "predictions = lr.predict(X_test_vec_standardized)\n",
        "\n",
        "# Variables that will be used for  making table in Conclusion part of this assignment\n",
        "bow_l1_random_C = optimal_C\n",
        "bow_l1_random_train_acc = model.score(X_test_vec_standardized, Y_test)*100\n",
        "bow_l1_random_test_acc = accuracy_score(Y_test, predictions) * 100"
      ],
      "execution_count": 28,
      "outputs": [
        {
          "output_type": "stream",
          "text": [
            "Model with best parameters :\n",
            " LogisticRegression(C=0.5836782637540139, class_weight=None, dual=False,\n",
            "          fit_intercept=True, intercept_scaling=1, max_iter=100,\n",
            "          multi_class='warn', n_jobs=None, penalty='l1', random_state=None,\n",
            "          solver='warn', tol=0.0001, verbose=0, warm_start=False)\n",
            "Accuracy of the model :  0.6162790697674418\n",
            "The optimal value of C(1/lambda) is :  0.5836782637540139\n"
          ],
          "name": "stdout"
        }
      ]
    },
    {
      "metadata": {
        "id": "4Mgw-c7cmBSS",
        "colab_type": "text"
      },
      "cell_type": "markdown",
      "source": [
        "SEABORN HEATMAP FOR REPRESENTATION OF CONFUSION MATRIX :"
      ]
    },
    {
      "metadata": {
        "id": "hfBmPY-4mBST",
        "colab_type": "code",
        "colab": {
          "base_uri": "https://localhost:8080/",
          "height": 502
        },
        "outputId": "79b16b42-878d-43bb-fc30-e30a20d474cb"
      },
      "cell_type": "code",
      "source": [
        "# Code for drawing seaborn heatmaps\n",
        "class_names = ['Nature','Mythology & Folklore', 'Nature']\n",
        "df_heatmap = pd.DataFrame(confusion_matrix(Y_test, predictions), index=class_names, columns=class_names )\n",
        "fig = plt.figure(figsize=(10,7))\n",
        "heatmap = sns.heatmap(df_heatmap, annot=True, fmt=\"d\")\n",
        "\n",
        "# Setting tick labels for heatmap\n",
        "heatmap.yaxis.set_ticklabels(heatmap.yaxis.get_ticklabels(), rotation=0, ha='right', fontsize=14)\n",
        "heatmap.xaxis.set_ticklabels(heatmap.xaxis.get_ticklabels(), rotation=0, ha='right', fontsize=14)\n",
        "plt.ylabel('Predicted label',size=18)\n",
        "plt.xlabel('True label',size=18)\n",
        "plt.title(\"Confusion Matrix\\n\",size=24)\n",
        "plt.show()"
      ],
      "execution_count": 30,
      "outputs": [
        {
          "output_type": "display_data",
          "data": {
            "image/png": "[encoded data removed]",
            "text/plain": [
              "<Figure size 720x504 with 2 Axes>"
            ]
          },
          "metadata": {
            "tags": []
          }
        }
      ]
    },
    {
      "metadata": {
        "id": "HxQrRYYgmBSX",
        "colab_type": "text"
      },
      "cell_type": "markdown",
      "source": [
        "MULTI-COLLINEARITY CHECK (PERTUBATION TECHNIQUE):"
      ]
    },
    {
      "metadata": {
        "id": "s93-W5KsmBSd",
        "colab_type": "code",
        "colab": {
          "base_uri": "https://localhost:8080/",
          "height": 102
        },
        "outputId": "14de712c-b9e0-4dcc-d220-c4261428af97"
      },
      "cell_type": "code",
      "source": [
        "epsilon = sp.stats.distributions.norm.rvs(loc=0,scale=0.0001)\n",
        "# Vector before the addition of epsilon\n",
        "W_before_epsilon = lr.coef_\n",
        "# Number of non zero elements in X_train_vec_standardized sparse matrix\n",
        "no_of_non_zero = X_train_vec_standardized.count_nonzero()\n",
        "\n",
        "# Creating new sparse matrix with epsilon at same position of non-zero elements of X_train_vec_standardized\n",
        "indices_X_train = X_train_vec_standardized.indices\n",
        "indptr_X_train = X_train_vec_standardized.indptr\n",
        "\n",
        "# Creating a list of same element with repetition\n",
        "data = [epsilon] * no_of_non_zero\n",
        "Shape = X_train_vec_standardized.shape\n",
        "\n",
        "# Creating sparse matrix\n",
        "sparse_epsilon = csr_matrix((data,indices_X_train,indptr_X_train),shape=Shape,dtype=float)\n",
        "\n",
        "# Add sparse_epsilon and X-train_vec_standardized to get a new sparse matrix with epsilon added to each \n",
        "# non-zero element of X_train_vec_standardized\n",
        "epsilon_train = X_train_vec_standardized + sparse_epsilon\n",
        "\n",
        "# training Logistic Regression Classifier with epsilon_train\n",
        "epsilon_lr = LogisticRegression(penalty='l1', C=optimal_C, n_jobs=-1)\n",
        "epsilon_lr.fit(epsilon_train,Y_train)\n",
        "\n",
        "# Vector after the addition of epsilon\n",
        "W_after_epsilon = epsilon_lr.coef_\n",
        "\n",
        "# Change in vectors after adding epsilon\n",
        "change_vector = W_after_epsilon - W_before_epsilon\n",
        "# Sort this change_vector array after making all the elements positive in ascending order to visualize the change\n",
        "sorted_change_vector = np.sort(np.absolute(change_vector))[:,::-1]\n",
        "\n",
        "sorted_change_vector[0,0:20]"
      ],
      "execution_count": 31,
      "outputs": [
        {
          "output_type": "execute_result",
          "data": {
            "text/plain": [
              "array([1.26114479e-04, 7.43713066e-05, 6.61282370e-05, 6.59464199e-05,\n",
              "       6.34276397e-05, 5.72890277e-05, 4.96736721e-05, 4.54215010e-05,\n",
              "       4.16769190e-05, 3.96717165e-05, 3.91869691e-05, 3.66145325e-05,\n",
              "       3.63725751e-05, 3.53444896e-05, 3.50252190e-05, 3.11098676e-05,\n",
              "       2.43289737e-05, 2.32333184e-05, 2.30844550e-05, 2.11138939e-05])"
            ]
          },
          "metadata": {
            "tags": []
          },
          "execution_count": 31
        }
      ]
    },
    {
      "metadata": {
        "id": "L5TJSdn9mBSm",
        "colab_type": "text"
      },
      "cell_type": "markdown",
      "source": [
        "OBSERVATION :- From above we can see that there is no large change in the weights of the both vectors ."
      ]
    },
    {
      "metadata": {
        "id": "p-jEhyltmBSw",
        "colab_type": "text"
      },
      "cell_type": "markdown",
      "source": [
        "# (2) TFIDF"
      ]
    },
    {
      "metadata": {
        "id": "kvDCkEDfmBSx",
        "colab_type": "code",
        "colab": {
          "base_uri": "https://localhost:8080/",
          "height": 68
        },
        "outputId": "198684d3-cad0-4818-92d3-e90c509707d2"
      },
      "cell_type": "code",
      "source": [
        "tf_idf_vect = TfidfVectorizer(min_df=50)\n",
        "X_train_vec = tf_idf_vect.fit_transform(X_train)\n",
        "X_test_vec = tf_idf_vect.transform(X_test)\n",
        "print(\"the type of count vectorizer :\",type(X_train_vec))\n",
        "print(\"the shape of out text TFIDF vectorizer : \",X_train_vec.get_shape())\n",
        "print(\"the number of unique words :\", X_train_vec.get_shape()[1])\n",
        "\n",
        "# Data-preprocessing: Standardizing the data\n",
        "sc = StandardScaler(with_mean=False)\n",
        "X_train_vec_standardized = sc.fit_transform(X_train_vec)\n",
        "X_test_vec_standardized = sc.transform(X_test_vec)"
      ],
      "execution_count": 32,
      "outputs": [
        {
          "output_type": "stream",
          "text": [
            "the type of count vectorizer : <class 'scipy.sparse.csr.csr_matrix'>\n",
            "the shape of out text TFIDF vectorizer :  (401, 52)\n",
            "the number of unique words : 52\n"
          ],
          "name": "stdout"
        }
      ]
    },
    {
      "metadata": {
        "id": "0La118rfmBS1",
        "colab_type": "text"
      },
      "cell_type": "markdown",
      "source": [
        "# (2.a) L2 Regularisation (Logistic Regression)"
      ]
    },
    {
      "metadata": {
        "id": "7ltAxXGqmBS2",
        "colab_type": "text"
      },
      "cell_type": "markdown",
      "source": [
        "# GridSearchCV Implementation"
      ]
    },
    {
      "metadata": {
        "id": "YLVAslT9mBS3",
        "colab_type": "code",
        "colab": {},
        "outputId": "76dd3852-8777-4ee6-894a-9cf2a9fe5ef5"
      },
      "cell_type": "code",
      "source": [
        "tuned_parameters = [{'C': [10**-4, 10**-2, 10**0, 10**2, 10**4]}]\n",
        "#Using GridSearchCV\n",
        "model = GridSearchCV(LogisticRegression(penalty='l2'), tuned_parameters, scoring = 'accuracy', cv=3 ,n_jobs=-1, pre_dispatch=2)\n",
        "model.fit(X_train_vec_standardized, Y_train)\n",
        "print(\"Model with best parameters :\\n\",model.best_estimator_)\n",
        "print(\"Accuracy of the model : \",model.score(X_test_vec_standardized, Y_test))\n",
        "\n",
        "optimal_C = model.best_estimator_.C\n",
        "print(\"The optimal value of C(1/lambda) is : \",optimal_C)\n",
        "\n",
        "# Logistic Regression with Optimal value of C i.e.(1/lambda)\n",
        "lr = LogisticRegression(penalty='l2', C=optimal_C, n_jobs=-1)\n",
        "lr.fit(X_train_vec_standardized,Y_train)\n",
        "predictions = lr.predict(X_test_vec_standardized)\n",
        "\n",
        "# Variables that will be used for  making table in Conclusion part of this assignment\n",
        "tfidf_l2_grid_C = optimal_C\n",
        "tfidf_l2_grid_train_acc = model.score(X_test_vec_standardized, Y_test)*100\n",
        "tfidf_l2_grid_test_acc = accuracy_score(Y_test, predictions) * 100"
      ],
      "execution_count": 0,
      "outputs": [
        {
          "output_type": "stream",
          "text": [
            "Model with best parameters :\n",
            " LogisticRegression(C=0.01, class_weight=None, dual=False, fit_intercept=True,\n",
            "          intercept_scaling=1, max_iter=100, multi_class='ovr', n_jobs=1,\n",
            "          penalty='l2', random_state=None, solver='liblinear', tol=0.0001,\n",
            "          verbose=0, warm_start=False)\n",
            "Accuracy of the model :  0.9245704451625305\n",
            "The optimal value of C(1/lambda) is :  0.01\n"
          ],
          "name": "stdout"
        }
      ]
    },
    {
      "metadata": {
        "id": "JQB7eRsamBTC",
        "colab_type": "text"
      },
      "cell_type": "markdown",
      "source": [
        "SEABORN HEATMAP FOR REPRESENTATION OF CONFUSION MATRIX :"
      ]
    },
    {
      "metadata": {
        "id": "lVpVged-mBTD",
        "colab_type": "code",
        "colab": {
          "base_uri": "https://localhost:8080/",
          "height": 502
        },
        "outputId": "f9fd2549-4334-4b0c-c2b3-f36cdaff2936"
      },
      "cell_type": "code",
      "source": [
        "# Code for drawing seaborn heatmaps\n",
        "class_names = ['Nature','Mythology & Folklore', 'Nature']\n",
        "df_heatmap = pd.DataFrame(confusion_matrix(Y_test, predictions), index=class_names, columns=class_names )\n",
        "fig = plt.figure(figsize=(10,7))\n",
        "heatmap = sns.heatmap(df_heatmap, annot=True, fmt=\"d\")\n",
        "\n",
        "# Setting tick labels for heatmap\n",
        "heatmap.yaxis.set_ticklabels(heatmap.yaxis.get_ticklabels(), rotation=0, ha='right', fontsize=14)\n",
        "heatmap.xaxis.set_ticklabels(heatmap.xaxis.get_ticklabels(), rotation=0, ha='right', fontsize=14)\n",
        "plt.ylabel('Predicted label',size=18)\n",
        "plt.xlabel('True label',size=18)\n",
        "plt.title(\"Confusion Matrix\\n\",size=24)\n",
        "plt.show()"
      ],
      "execution_count": 33,
      "outputs": [
        {
          "output_type": "display_data",
          "data": {
            "image/png": "[encoded data removed]",
            "text/plain": [
              "<Figure size 720x504 with 2 Axes>"
            ]
          },
          "metadata": {
            "tags": []
          }
        }
      ]
    },
    {
      "metadata": {
        "id": "zEJqyBAKmBTJ",
        "colab_type": "text"
      },
      "cell_type": "markdown",
      "source": [
        "MULTI-COLLINEARITY CHECK (PERTUBATION TECHNIQUE):"
      ]
    },
    {
      "metadata": {
        "id": "OQbet44lmBTK",
        "colab_type": "code",
        "colab": {
          "base_uri": "https://localhost:8080/",
          "height": 85
        },
        "outputId": "c9a2e6db-afb2-4a9f-e3d4-042b235024f3"
      },
      "cell_type": "code",
      "source": [
        "epsilon = sp.stats.distributions.norm.rvs(loc=0,scale=0.0001)\n",
        "# Vector before the addition of epsilon\n",
        "W_before_epsilon = lr.coef_\n",
        "# Number of non zero elements in X_train_vec_standardized sparse matrix\n",
        "no_of_non_zero = X_train_vec_standardized.count_nonzero()\n",
        "\n",
        "# Creating new sparse matrix with epsilon at same position of non-zero elements of X_train_vec_standardized\n",
        "indices_X_train = X_train_vec_standardized.indices\n",
        "indptr_X_train = X_train_vec_standardized.indptr\n",
        "\n",
        "# Creating a list of same element with repetition\n",
        "data = [epsilon] * no_of_non_zero\n",
        "Shape = X_train_vec_standardized.shape\n",
        "\n",
        "# Creating sparse matrix\n",
        "sparse_epsilon = csr_matrix((data,indices_X_train,indptr_X_train),shape=Shape,dtype=float)\n",
        "\n",
        "# Add sparse_epsilon and X-train_vec_standardized to get a new sparse matrix with epsilon added to each \n",
        "# non-zero element of X_train_vec_standardized\n",
        "epsilon_train = X_train_vec_standardized + sparse_epsilon\n",
        "\n",
        "# training Logistic Regression Classifier with epsilon_train\n",
        "epsilon_lr = LogisticRegression(penalty='l2', C=optimal_C, n_jobs=-1)\n",
        "epsilon_lr.fit(epsilon_train,Y_train)\n",
        "\n",
        "# Vector after the addition of epsilon\n",
        "W_after_epsilon = epsilon_lr.coef_\n",
        "\n",
        "# Change in vectors after adding epsilon\n",
        "change_vector = W_after_epsilon - W_before_epsilon\n",
        "# Sort this change_vector array after making all the elements positive in ascending order to visualize the change\n",
        "sorted_change_vector = np.sort(np.absolute(change_vector))[:,::-1]\n",
        "\n",
        "sorted_change_vector[0,0:20]"
      ],
      "execution_count": 34,
      "outputs": [
        {
          "output_type": "execute_result",
          "data": {
            "text/plain": [
              "array([0.24679515, 0.20892821, 0.19811854, 0.14739246, 0.14179324,\n",
              "       0.13583066, 0.1341712 , 0.12520825, 0.11871815, 0.11356387,\n",
              "       0.11309583, 0.11225459, 0.1003631 , 0.1000637 , 0.09903993,\n",
              "       0.09725849, 0.08770466, 0.08539864, 0.08272991, 0.08157946])"
            ]
          },
          "metadata": {
            "tags": []
          },
          "execution_count": 34
        }
      ]
    },
    {
      "metadata": {
        "id": "5JOBXLGImBTP",
        "colab_type": "text"
      },
      "cell_type": "markdown",
      "source": [
        "OBSERVATION :- From above we can see that there is no large change in the weights of the both vectors ."
      ]
    },
    {
      "metadata": {
        "id": "6fZo5fETmBTZ",
        "colab_type": "text"
      },
      "cell_type": "markdown",
      "source": [
        "# RandomizedSearchCV Implementation"
      ]
    },
    {
      "metadata": {
        "id": "pcU_u8dKmBTa",
        "colab_type": "code",
        "colab": {
          "base_uri": "https://localhost:8080/",
          "height": 136
        },
        "outputId": "637fedc1-6cdd-42fb-898a-75e209c08fad"
      },
      "cell_type": "code",
      "source": [
        "# Create regularization hyperparameter distribution using uniform distribution\n",
        "C = uniform(loc=0, scale=10)\n",
        "\n",
        "# Create hyperparameter options\n",
        "hyperparameters = dict(C=C)\n",
        "\n",
        "#Using RandomizedSearchCV\n",
        "model = RandomizedSearchCV(LogisticRegression(penalty='l2'), hyperparameters, scoring='accuracy', cv=3,n_jobs=-1,pre_dispatch=2)\n",
        "model.fit(X_train_vec_standardized, Y_train)\n",
        "print(\"Model with best parameters :\\n\",model.best_estimator_)\n",
        "print(\"Accuracy of the model : \",model.score(X_test_vec_standardized, Y_test))\n",
        "\n",
        "optimal_C = model.best_estimator_.C\n",
        "print(\"The optimal value of C(1/lambda) is : \",optimal_C)\n",
        "\n",
        "# Logistic Regression with Optimal value of C i.e.(1/lambda)\n",
        "lr = LogisticRegression(penalty='l2', C=optimal_C, n_jobs=-1)\n",
        "lr.fit(X_train_vec_standardized,Y_train)\n",
        "predictions = lr.predict(X_test_vec_standardized)\n",
        "\n",
        "# Variables that will be used for  making table in Conclusion part of this assignment\n",
        "tfidf_l2_random_C = optimal_C\n",
        "tfidf_l2_random_train_acc = model.score(X_test_vec_standardized, Y_test)*100\n",
        "tfidf_l2_random_test_acc = accuracy_score(Y_test, predictions) * 100"
      ],
      "execution_count": 35,
      "outputs": [
        {
          "output_type": "stream",
          "text": [
            "Model with best parameters :\n",
            " LogisticRegression(C=0.4409278667306049, class_weight=None, dual=False,\n",
            "          fit_intercept=True, intercept_scaling=1, max_iter=100,\n",
            "          multi_class='warn', n_jobs=None, penalty='l2', random_state=None,\n",
            "          solver='warn', tol=0.0001, verbose=0, warm_start=False)\n",
            "Accuracy of the model :  0.6046511627906976\n",
            "The optimal value of C(1/lambda) is :  0.4409278667306049\n"
          ],
          "name": "stdout"
        }
      ]
    },
    {
      "metadata": {
        "id": "zyarq9XkmBTm",
        "colab_type": "text"
      },
      "cell_type": "markdown",
      "source": [
        "SEABORN HEATMAP FOR REPRESENTATION OF CONFUSION MATRIX :"
      ]
    },
    {
      "metadata": {
        "id": "id7xkKTEmBTn",
        "colab_type": "code",
        "colab": {
          "base_uri": "https://localhost:8080/",
          "height": 502
        },
        "outputId": "e11e9796-d2ad-4817-da8c-029e3485d03b"
      },
      "cell_type": "code",
      "source": [
        "# Code for drawing seaborn heatmaps\n",
        "class_names = ['Nature','Mythology & Folklore', 'Nature']\n",
        "df_heatmap = pd.DataFrame(confusion_matrix(Y_test, predictions), index=class_names, columns=class_names )\n",
        "fig = plt.figure(figsize=(10,7))\n",
        "heatmap = sns.heatmap(df_heatmap, annot=True, fmt=\"d\")\n",
        "\n",
        "# Setting tick labels for heatmap\n",
        "heatmap.yaxis.set_ticklabels(heatmap.yaxis.get_ticklabels(), rotation=0, ha='right', fontsize=14)\n",
        "heatmap.xaxis.set_ticklabels(heatmap.xaxis.get_ticklabels(), rotation=0, ha='right', fontsize=14)\n",
        "plt.ylabel('Predicted label',size=18)\n",
        "plt.xlabel('True label',size=18)\n",
        "plt.title(\"Confusion Matrix\\n\",size=24)\n",
        "plt.show()"
      ],
      "execution_count": 37,
      "outputs": [
        {
          "output_type": "display_data",
          "data": {
            "image/png": "[encoded data removed]",
            "text/plain": [
              "<Figure size 720x504 with 2 Axes>"
            ]
          },
          "metadata": {
            "tags": []
          }
        }
      ]
    },
    {
      "metadata": {
        "id": "5cygy8lxmBTs",
        "colab_type": "text"
      },
      "cell_type": "markdown",
      "source": [
        "MULTI-COLLINEARITY CHECK (PERTUBATION TECHNIQUE):"
      ]
    },
    {
      "metadata": {
        "id": "fYZD9-KKmBTt",
        "colab_type": "code",
        "colab": {
          "base_uri": "https://localhost:8080/",
          "height": 102
        },
        "outputId": "075971e6-b937-4024-b0b7-90196bfc0681"
      },
      "cell_type": "code",
      "source": [
        "epsilon = sp.stats.distributions.norm.rvs(loc=0,scale=0.0001)\n",
        "# Vector before the addition of epsilon\n",
        "W_before_epsilon = lr.coef_\n",
        "# Number of non zero elements in X_train_vec_standardized sparse matrix\n",
        "no_of_non_zero = X_train_vec_standardized.count_nonzero()\n",
        "\n",
        "# Creating new sparse matrix with epsilon at same position of non-zero elements of X_train_vec_standardized\n",
        "indices_X_train = X_train_vec_standardized.indices\n",
        "indptr_X_train = X_train_vec_standardized.indptr\n",
        "\n",
        "# Creating a list of same element with repetition\n",
        "data = [epsilon] * no_of_non_zero\n",
        "Shape = X_train_vec_standardized.shape\n",
        "\n",
        "# Creating sparse matrix\n",
        "sparse_epsilon = csr_matrix((data,indices_X_train,indptr_X_train),shape=Shape,dtype=float)\n",
        "\n",
        "# Add sparse_epsilon and X-train_vec_standardized to get a new sparse matrix with epsilon added to each \n",
        "# non-zero element of X_train_vec_standardized\n",
        "epsilon_train = X_train_vec_standardized + sparse_epsilon\n",
        "\n",
        "# training Logistic Regression Classifier with epsilon_train\n",
        "epsilon_lr = LogisticRegression(penalty='l2', C=optimal_C, n_jobs=-1)\n",
        "epsilon_lr.fit(epsilon_train,Y_train)\n",
        "\n",
        "# Vector after the addition of epsilon\n",
        "W_after_epsilon = epsilon_lr.coef_\n",
        "\n",
        "# Change in vectors after adding epsilon\n",
        "change_vector = W_after_epsilon - W_before_epsilon\n",
        "# Sort this change_vector array after making all the elements positive in ascending order to visualize the change\n",
        "sorted_change_vector = np.sort(np.absolute(change_vector))[:,::-1]\n",
        "\n",
        "sorted_change_vector[0,0:20]"
      ],
      "execution_count": 38,
      "outputs": [
        {
          "output_type": "execute_result",
          "data": {
            "text/plain": [
              "array([1.58823910e-05, 1.43294234e-05, 1.40579296e-05, 1.19052718e-05,\n",
              "       1.05584079e-05, 1.00114277e-05, 9.76786559e-06, 9.57623588e-06,\n",
              "       9.44646810e-06, 9.37203957e-06, 9.17928218e-06, 9.17553976e-06,\n",
              "       8.74667380e-06, 8.62592183e-06, 8.57842116e-06, 8.55884860e-06,\n",
              "       8.51303512e-06, 8.09454638e-06, 7.70208365e-06, 7.05182529e-06])"
            ]
          },
          "metadata": {
            "tags": []
          },
          "execution_count": 38
        }
      ]
    },
    {
      "metadata": {
        "id": "-oDr-BxwmBTy",
        "colab_type": "text"
      },
      "cell_type": "markdown",
      "source": [
        "OBSERVATION :- From above we can see that there is no large change in the weights of the both vectors ."
      ]
    },
    {
      "metadata": {
        "id": "vsBI_HL1mBT6",
        "colab_type": "text"
      },
      "cell_type": "markdown",
      "source": [
        "# (2.b) L1 Regularisation (Logistic regression)"
      ]
    },
    {
      "metadata": {
        "id": "otTxJ3BNmBT8",
        "colab_type": "text"
      },
      "cell_type": "markdown",
      "source": [
        "# GridSearchCV Implementation"
      ]
    },
    {
      "metadata": {
        "id": "mkBdv9O2mBT-",
        "colab_type": "code",
        "colab": {
          "base_uri": "https://localhost:8080/",
          "height": 136
        },
        "outputId": "d5d2ab1a-fb7a-4c5d-e570-801b1f48b59b"
      },
      "cell_type": "code",
      "source": [
        "tuned_parameters = [{'C': [10**-4, 10**-2, 10**0, 10**2, 10**4]}]\n",
        "#Using GridSearchCV\n",
        "model = GridSearchCV(LogisticRegression(penalty='l1'), tuned_parameters, scoring = 'accuracy', cv=3 ,n_jobs=-1, pre_dispatch=2)\n",
        "model.fit(X_train_vec_standardized, Y_train)\n",
        "print(\"Model with best parameters :\\n\",model.best_estimator_)\n",
        "print(\"Accuracy of the model : \",model.score(X_test_vec_standardized, Y_test))\n",
        "\n",
        "optimal_C = model.best_estimator_.C\n",
        "print(\"The optimal value of C(1/lambda) is : \",optimal_C)\n",
        "\n",
        "# Logistic Regression with Optimal value of C i.e.(1/lambda)\n",
        "lr = LogisticRegression(penalty='l1', C=optimal_C, n_jobs=-1)\n",
        "lr.fit(X_train_vec_standardized,Y_train)\n",
        "predictions = lr.predict(X_test_vec_standardized)\n",
        "\n",
        "# Variables that will be used for  making table in Conclusion part of this assignment\n",
        "tfidf_l1_grid_C = optimal_C\n",
        "tfidf_l1_grid_train_acc = model.score(X_test_vec_standardized, Y_test)*100\n",
        "tfidf_l1_grid_test_acc = accuracy_score(Y_test, predictions) * 100"
      ],
      "execution_count": 39,
      "outputs": [
        {
          "output_type": "stream",
          "text": [
            "Model with best parameters :\n",
            " LogisticRegression(C=0.0001, class_weight=None, dual=False,\n",
            "          fit_intercept=True, intercept_scaling=1, max_iter=100,\n",
            "          multi_class='warn', n_jobs=None, penalty='l1', random_state=None,\n",
            "          solver='warn', tol=0.0001, verbose=0, warm_start=False)\n",
            "Accuracy of the model :  0.5290697674418605\n",
            "The optimal value of C(1/lambda) is :  0.0001\n"
          ],
          "name": "stdout"
        }
      ]
    },
    {
      "metadata": {
        "id": "PGVbkd72mBUK",
        "colab_type": "text"
      },
      "cell_type": "markdown",
      "source": [
        "SEABORN HEATMAP FOR REPRESENTATION OF CONFUSION MATRIX :"
      ]
    },
    {
      "metadata": {
        "id": "Ebx_bwNimBUL",
        "colab_type": "code",
        "colab": {
          "base_uri": "https://localhost:8080/",
          "height": 502
        },
        "outputId": "5868acb1-a310-47db-c02e-553606436afd"
      },
      "cell_type": "code",
      "source": [
        "# Code for drawing seaborn heatmaps\n",
        "class_names = ['Nature','Mythology & Folklore', 'Nature']\n",
        "df_heatmap = pd.DataFrame(confusion_matrix(Y_test, predictions), index=class_names, columns=class_names )\n",
        "fig = plt.figure(figsize=(10,7))\n",
        "heatmap = sns.heatmap(df_heatmap, annot=True, fmt=\"d\")\n",
        "\n",
        "# Setting tick labels for heatmap\n",
        "heatmap.yaxis.set_ticklabels(heatmap.yaxis.get_ticklabels(), rotation=0, ha='right', fontsize=14)\n",
        "heatmap.xaxis.set_ticklabels(heatmap.xaxis.get_ticklabels(), rotation=0, ha='right', fontsize=14)\n",
        "plt.ylabel('Predicted label',size=18)\n",
        "plt.xlabel('True label',size=18)\n",
        "plt.title(\"Confusion Matrix\\n\",size=24)\n",
        "plt.show()"
      ],
      "execution_count": 40,
      "outputs": [
        {
          "output_type": "display_data",
          "data": {
            "image/png": "[encoded data removed]",
            "text/plain": [
              "<Figure size 720x504 with 2 Axes>"
            ]
          },
          "metadata": {
            "tags": []
          }
        }
      ]
    },
    {
      "metadata": {
        "id": "mgZLk4t9mBUO",
        "colab_type": "text"
      },
      "cell_type": "markdown",
      "source": [
        "MULTI-COLLINEARITY CHECK (PERTUBATION TECHNIQUE):"
      ]
    },
    {
      "metadata": {
        "id": "oUIkKv3YmBUP",
        "colab_type": "code",
        "colab": {
          "base_uri": "https://localhost:8080/",
          "height": 51
        },
        "outputId": "416189bd-4b6e-4fd9-c531-82dd32fffa9d"
      },
      "cell_type": "code",
      "source": [
        "epsilon = sp.stats.distributions.norm.rvs(loc=0,scale=0.0001)\n",
        "# Vector before the addition of epsilon\n",
        "W_before_epsilon = lr.coef_\n",
        "# Number of non zero elements in X_train_vec_standardized sparse matrix\n",
        "no_of_non_zero = X_train_vec_standardized.count_nonzero()\n",
        "\n",
        "# Creating new sparse matrix with epsilon at same position of non-zero elements of X_train_vec_standardized\n",
        "indices_X_train = X_train_vec_standardized.indices\n",
        "indptr_X_train = X_train_vec_standardized.indptr\n",
        "\n",
        "# Creating a list of same element with repetition\n",
        "data = [epsilon] * no_of_non_zero\n",
        "Shape = X_train_vec_standardized.shape\n",
        "\n",
        "# Creating sparse matrix\n",
        "sparse_epsilon = csr_matrix((data,indices_X_train,indptr_X_train),shape=Shape,dtype=float)\n",
        "\n",
        "# Add sparse_epsilon and X-train_vec_standardized to get a new sparse matrix with epsilon added to each \n",
        "# non-zero element of X_train_vec_standardized\n",
        "epsilon_train = X_train_vec_standardized + sparse_epsilon\n",
        "\n",
        "# training Logistic Regression Classifier with epsilon_train\n",
        "epsilon_lr = LogisticRegression(penalty='l1', C=optimal_C, n_jobs=-1)\n",
        "epsilon_lr.fit(epsilon_train,Y_train)\n",
        "\n",
        "# Vector after the addition of epsilon\n",
        "W_after_epsilon = epsilon_lr.coef_\n",
        "\n",
        "# Change in vectors after adding epsilon\n",
        "change_vector = W_after_epsilon - W_before_epsilon\n",
        "# Sort this change_vector array after making all the elements positive in ascending order to visualize the change\n",
        "sorted_change_vector = np.sort(np.absolute(change_vector))[:,::-1]\n",
        "\n",
        "sorted_change_vector[0,0:20]"
      ],
      "execution_count": 41,
      "outputs": [
        {
          "output_type": "execute_result",
          "data": {
            "text/plain": [
              "array([0., 0., 0., 0., 0., 0., 0., 0., 0., 0., 0., 0., 0., 0., 0., 0., 0.,\n",
              "       0., 0., 0.])"
            ]
          },
          "metadata": {
            "tags": []
          },
          "execution_count": 41
        }
      ]
    },
    {
      "metadata": {
        "id": "Wdej5tzymBUT",
        "colab_type": "text"
      },
      "cell_type": "markdown",
      "source": [
        "OBSERVATION :- From above we can see that there is no large change in the weights of the both vectors ."
      ]
    },
    {
      "metadata": {
        "id": "a6iHFFzJmBVF",
        "colab_type": "text"
      },
      "cell_type": "markdown",
      "source": [
        "# RandomizedSearchCV Implementation"
      ]
    },
    {
      "metadata": {
        "id": "ppI4mpGgmBVI",
        "colab_type": "code",
        "colab": {
          "base_uri": "https://localhost:8080/",
          "height": 136
        },
        "outputId": "56d26572-1efe-4707-d157-1c72d5b55353"
      },
      "cell_type": "code",
      "source": [
        "# Create regularization hyperparameter distribution using uniform distribution\n",
        "C = uniform(loc=0, scale=10)\n",
        "\n",
        "# Create hyperparameter options\n",
        "hyperparameters = dict(C=C)\n",
        "\n",
        "#Using RandomizedSearchCV\n",
        "model = RandomizedSearchCV(LogisticRegression(penalty='l1'), hyperparameters, scoring='accuracy', cv=3,n_jobs=-1,pre_dispatch=2)\n",
        "model.fit(X_train_vec_standardized, Y_train)\n",
        "print(\"Model with best parameters :\\n\",model.best_estimator_)\n",
        "print(\"Accuracy of the model : \",model.score(X_test_vec_standardized, Y_test))\n",
        "\n",
        "optimal_C = model.best_estimator_.C\n",
        "print(\"The optimal value of C(1/lambda) is : \",optimal_C)\n",
        "\n",
        "# Logistic Regression with Optimal value of C i.e.(1/lambda)\n",
        "lr = LogisticRegression(penalty='l1', C=optimal_C, n_jobs=-1)\n",
        "lr.fit(X_train_vec_standardized,Y_train)\n",
        "predictions = lr.predict(X_test_vec_standardized)\n",
        "\n",
        "# Variables that will be used for  making table in Conclusion part of this assignment\n",
        "tfidf_l1_random_C = optimal_C\n",
        "tfidf_l1_random_train_acc = model.score(X_test_vec_standardized, Y_test)*100\n",
        "tfidf_l1_random_test_acc = accuracy_score(Y_test, predictions) * 100"
      ],
      "execution_count": 42,
      "outputs": [
        {
          "output_type": "stream",
          "text": [
            "Model with best parameters :\n",
            " LogisticRegression(C=0.36243600426237643, class_weight=None, dual=False,\n",
            "          fit_intercept=True, intercept_scaling=1, max_iter=100,\n",
            "          multi_class='warn', n_jobs=None, penalty='l1', random_state=None,\n",
            "          solver='warn', tol=0.0001, verbose=0, warm_start=False)\n",
            "Accuracy of the model :  0.6395348837209303\n",
            "The optimal value of C(1/lambda) is :  0.36243600426237643\n"
          ],
          "name": "stdout"
        }
      ]
    },
    {
      "metadata": {
        "id": "IXqVxnGxmBVU",
        "colab_type": "text"
      },
      "cell_type": "markdown",
      "source": [
        "SEABORN HEATMAP FOR REPRESENTATION OF CONFUSION MATRIX :"
      ]
    },
    {
      "metadata": {
        "id": "KelqzbaUmBVV",
        "colab_type": "code",
        "colab": {
          "base_uri": "https://localhost:8080/",
          "height": 502
        },
        "outputId": "761a4446-cbc4-4b68-8fbe-acf41f676218"
      },
      "cell_type": "code",
      "source": [
        "# Code for drawing seaborn heatmaps\n",
        "class_names = ['Nature','Mythology & Folklore', 'Nature']\n",
        "df_heatmap = pd.DataFrame(confusion_matrix(Y_test, predictions), index=class_names, columns=class_names )\n",
        "fig = plt.figure(figsize=(10,7))\n",
        "heatmap = sns.heatmap(df_heatmap, annot=True, fmt=\"d\")\n",
        "\n",
        "# Setting tick labels for heatmap\n",
        "heatmap.yaxis.set_ticklabels(heatmap.yaxis.get_ticklabels(), rotation=0, ha='right', fontsize=14)\n",
        "heatmap.xaxis.set_ticklabels(heatmap.xaxis.get_ticklabels(), rotation=0, ha='right', fontsize=14)\n",
        "plt.ylabel('Predicted label',size=18)\n",
        "plt.xlabel('True label',size=18)\n",
        "plt.title(\"Confusion Matrix\\n\",size=24)\n",
        "plt.show()"
      ],
      "execution_count": 43,
      "outputs": [
        {
          "output_type": "display_data",
          "data": {
            "image/png": "[encoded data removed]",
            "text/plain": [
              "<Figure size 720x504 with 2 Axes>"
            ]
          },
          "metadata": {
            "tags": []
          }
        }
      ]
    },
    {
      "metadata": {
        "id": "0PYjlJX6mBVb",
        "colab_type": "text"
      },
      "cell_type": "markdown",
      "source": [
        "MULTI-COLLINEARITY CHECK (PERTUBATION TECHNIQUE):"
      ]
    },
    {
      "metadata": {
        "id": "szjpm5C6mBVc",
        "colab_type": "code",
        "colab": {
          "base_uri": "https://localhost:8080/",
          "height": 102
        },
        "outputId": "bbebf208-60ae-4d33-8ea7-d92108f46a4c"
      },
      "cell_type": "code",
      "source": [
        "epsilon = sp.stats.distributions.norm.rvs(loc=0,scale=0.0001)\n",
        "# Vector before the addition of epsilon\n",
        "W_before_epsilon = lr.coef_\n",
        "# Number of non zero elements in X_train_vec_standardized sparse matrix\n",
        "no_of_non_zero = X_train_vec_standardized.count_nonzero()\n",
        "\n",
        "# Creating new sparse matrix with epsilon at same position of non-zero elements of X_train_vec_standardized\n",
        "indices_X_train = X_train_vec_standardized.indices\n",
        "indptr_X_train = X_train_vec_standardized.indptr\n",
        "\n",
        "# Creating a list of same element with repetition\n",
        "data = [epsilon] * no_of_non_zero\n",
        "Shape = X_train_vec_standardized.shape\n",
        "\n",
        "# Creating sparse matrix\n",
        "sparse_epsilon = csr_matrix((data,indices_X_train,indptr_X_train),shape=Shape,dtype=float)\n",
        "\n",
        "# Add sparse_epsilon and X-train_vec_standardized to get a new sparse matrix with epsilon added to each \n",
        "# non-zero element of X_train_vec_standardized\n",
        "epsilon_train = X_train_vec_standardized + sparse_epsilon\n",
        "\n",
        "# training Logistic Regression Classifier with epsilon_train\n",
        "epsilon_lr = LogisticRegression(penalty='l1', C=optimal_C, n_jobs=-1)\n",
        "epsilon_lr.fit(epsilon_train,Y_train)\n",
        "\n",
        "# Vector after the addition of epsilon\n",
        "W_after_epsilon = epsilon_lr.coef_\n",
        "\n",
        "# Change in vectors after adding epsilon\n",
        "change_vector = W_after_epsilon - W_before_epsilon\n",
        "# Sort this change_vector array after making all the elements positive in ascending order to visualize the change\n",
        "sorted_change_vector = np.sort(np.absolute(change_vector))[:,::-1]\n",
        "\n",
        "sorted_change_vector[0,0:20]"
      ],
      "execution_count": 44,
      "outputs": [
        {
          "output_type": "execute_result",
          "data": {
            "text/plain": [
              "array([7.75964915e-05, 6.01170683e-05, 5.77905559e-05, 4.25062044e-05,\n",
              "       3.79231287e-05, 3.73440834e-05, 3.31444430e-05, 3.25709423e-05,\n",
              "       3.15905319e-05, 3.07578598e-05, 2.88872399e-05, 2.88060371e-05,\n",
              "       2.77636911e-05, 2.63824090e-05, 2.49013241e-05, 2.30632039e-05,\n",
              "       2.20364111e-05, 2.09237677e-05, 1.94799452e-05, 1.77941262e-05])"
            ]
          },
          "metadata": {
            "tags": []
          },
          "execution_count": 44
        }
      ]
    },
    {
      "metadata": {
        "id": "dsDAL0NlmBVf",
        "colab_type": "text"
      },
      "cell_type": "markdown",
      "source": [
        "OBSERVATION :- From above we can see that there is no large change in the weights of the both vectors ."
      ]
    },
    {
      "metadata": {
        "id": "bTk6StkcmBVl",
        "colab_type": "text"
      },
      "cell_type": "markdown",
      "source": [
        "# Word2Vec"
      ]
    },
    {
      "metadata": {
        "id": "0CsfcShDmBVl",
        "colab_type": "code",
        "colab": {
          "base_uri": "https://localhost:8080/",
          "height": 34
        },
        "outputId": "d0fa2b42-9239-4d58-d858-dddf6bcf9f17"
      },
      "cell_type": "code",
      "source": [
        "# List of sentence in X_train text\n",
        "sent_of_train=[]\n",
        "for sent in X_train:\n",
        "    sent_of_train.append(sent.split())\n",
        "\n",
        "# List of sentence in X_est text\n",
        "sent_of_test=[]\n",
        "for sent in X_test:\n",
        "    sent_of_test.append(sent.split())   \n",
        "    \n",
        "# Train your own Word2Vec model using your own train text corpus \n",
        "# min_count = 5 considers only words that occured atleast 5 times\n",
        "w2v_model=Word2Vec(sent_of_train,min_count=5,size=50, workers=4)\n",
        "\n",
        "w2v_words = list(w2v_model.wv.vocab)\n",
        "print(\"number of words that occured minimum 5 times \",len(w2v_words))"
      ],
      "execution_count": 45,
      "outputs": [
        {
          "output_type": "stream",
          "text": [
            "number of words that occured minimum 5 times  1469\n"
          ],
          "name": "stdout"
        }
      ]
    },
    {
      "metadata": {
        "id": "_g8nRWAsmBVo",
        "colab_type": "text"
      },
      "cell_type": "markdown",
      "source": [
        "# (3). Avg Word2Vec"
      ]
    },
    {
      "metadata": {
        "id": "VYKb9MjvmBVp",
        "colab_type": "code",
        "colab": {}
      },
      "cell_type": "code",
      "source": [
        "# compute average word2vec for each review for X_train .\n",
        "train_vectors = []; \n",
        "for sent in sent_of_train:\n",
        "    sent_vec = np.zeros(50) \n",
        "    cnt_words =0; \n",
        "    for word in sent: # \n",
        "        if word in w2v_words:\n",
        "            vec = w2v_model.wv[word]\n",
        "            sent_vec += vec\n",
        "            cnt_words += 1\n",
        "    if cnt_words != 0:\n",
        "        sent_vec /= cnt_words\n",
        "    train_vectors.append(sent_vec)\n",
        "    \n",
        "# compute average word2vec for each review for X_test .\n",
        "test_vectors = []; \n",
        "for sent in sent_of_test:\n",
        "    sent_vec = np.zeros(50) \n",
        "    cnt_words =0; \n",
        "    for word in sent: # \n",
        "        if word in w2v_words:\n",
        "            vec = w2v_model.wv[word]\n",
        "            sent_vec += vec\n",
        "            cnt_words += 1\n",
        "    if cnt_words != 0:\n",
        "        sent_vec /= cnt_words\n",
        "    test_vectors.append(sent_vec) \n",
        "\n",
        "# Data-preprocessing: Standardizing the data\n",
        "sc = StandardScaler()\n",
        "X_train_vec_standardized = sc.fit_transform(train_vectors)\n",
        "X_test_vec_standardized = sc.transform(test_vectors)    "
      ],
      "execution_count": 0,
      "outputs": []
    },
    {
      "metadata": {
        "id": "Dq2AaSHEmBVv",
        "colab_type": "text"
      },
      "cell_type": "markdown",
      "source": [
        "# (3.a) L2 Regularisation (Logistic Regression)"
      ]
    },
    {
      "metadata": {
        "id": "7rYOu2c6mBVw",
        "colab_type": "text"
      },
      "cell_type": "markdown",
      "source": [
        "# GridSearchCV Implementation"
      ]
    },
    {
      "metadata": {
        "id": "KCXW6oBnmBVw",
        "colab_type": "code",
        "colab": {
          "base_uri": "https://localhost:8080/",
          "height": 136
        },
        "outputId": "241d1fee-0469-450a-cef3-828b112e7242"
      },
      "cell_type": "code",
      "source": [
        "tuned_parameters = [{'C': [10**-4, 10**-2, 10**0, 10**2, 10**4]}]\n",
        "#Using GridSearchCV\n",
        "model = GridSearchCV(LogisticRegression(penalty='l2'), tuned_parameters, scoring = 'accuracy', cv=3 ,n_jobs=-1, pre_dispatch=2)\n",
        "model.fit(X_train_vec_standardized, Y_train)\n",
        "print(\"Model with best parameters :\\n\",model.best_estimator_)\n",
        "print(\"Accuracy of the model : \",model.score(X_test_vec_standardized, Y_test))\n",
        "\n",
        "optimal_C = model.best_estimator_.C\n",
        "print(\"The optimal value of C(1/lambda) is : \",optimal_C)\n",
        "\n",
        "# Logistic Regression with Optimal value of C i.e.(1/lambda)\n",
        "lr = LogisticRegression(penalty='l2', C=optimal_C, n_jobs=-1)\n",
        "lr.fit(X_train_vec_standardized,Y_train)\n",
        "predictions = lr.predict(X_test_vec_standardized)\n",
        "\n",
        "# Variables that will be used for  making table in Conclusion part of this assignment\n",
        "avg_w2v_l2_grid_C = optimal_C\n",
        "avg_w2v_l2_grid_train_acc = model.score(X_test_vec_standardized, Y_test)*100\n",
        "avg_w2v_l2_grid_test_acc = accuracy_score(Y_test, predictions) * 100"
      ],
      "execution_count": 47,
      "outputs": [
        {
          "output_type": "stream",
          "text": [
            "Model with best parameters :\n",
            " LogisticRegression(C=1, class_weight=None, dual=False, fit_intercept=True,\n",
            "          intercept_scaling=1, max_iter=100, multi_class='warn',\n",
            "          n_jobs=None, penalty='l2', random_state=None, solver='warn',\n",
            "          tol=0.0001, verbose=0, warm_start=False)\n",
            "Accuracy of the model :  0.5872093023255814\n",
            "The optimal value of C(1/lambda) is :  1\n"
          ],
          "name": "stdout"
        }
      ]
    },
    {
      "metadata": {
        "id": "vwz3n8kwmBV3",
        "colab_type": "text"
      },
      "cell_type": "markdown",
      "source": [
        "SEABORN HEATMAP FOR REPRESENTATION OF CONFUSION MATRIX :"
      ]
    },
    {
      "metadata": {
        "id": "Mx1sFOfbmBV3",
        "colab_type": "code",
        "colab": {
          "base_uri": "https://localhost:8080/",
          "height": 502
        },
        "outputId": "a3eadbb8-6622-43c6-87e0-c8251ee3fd27"
      },
      "cell_type": "code",
      "source": [
        "# Code for drawing seaborn heatmaps\n",
        "class_names = ['Nature','Mythology & Folklore', 'Nature']\n",
        "df_heatmap = pd.DataFrame(confusion_matrix(Y_test, predictions), index=class_names, columns=class_names )\n",
        "fig = plt.figure(figsize=(10,7))\n",
        "heatmap = sns.heatmap(df_heatmap, annot=True, fmt=\"d\")\n",
        "\n",
        "# Setting tick labels for heatmap\n",
        "heatmap.yaxis.set_ticklabels(heatmap.yaxis.get_ticklabels(), rotation=0, ha='right', fontsize=14)\n",
        "heatmap.xaxis.set_ticklabels(heatmap.xaxis.get_ticklabels(), rotation=0, ha='right', fontsize=14)\n",
        "plt.ylabel('Predicted label',size=18)\n",
        "plt.xlabel('True label',size=18)\n",
        "plt.title(\"Confusion Matrix\\n\",size=24)\n",
        "plt.show()"
      ],
      "execution_count": 48,
      "outputs": [
        {
          "output_type": "display_data",
          "data": {
            "image/png": "[encoded data removed]",
            "text/plain": [
              "<Figure size 720x504 with 2 Axes>"
            ]
          },
          "metadata": {
            "tags": []
          }
        }
      ]
    },
    {
      "metadata": {
        "id": "usuTLk2bmBV7",
        "colab_type": "text"
      },
      "cell_type": "markdown",
      "source": [
        "# RandomizedSearchCV Implementation"
      ]
    },
    {
      "metadata": {
        "id": "pHiUXna3mBWB",
        "colab_type": "code",
        "colab": {
          "base_uri": "https://localhost:8080/",
          "height": 136
        },
        "outputId": "2a95c74b-724c-4053-de56-ab8c2c1aa837"
      },
      "cell_type": "code",
      "source": [
        "# Create regularization hyperparameter distribution using uniform distribution\n",
        "C = uniform(loc=0, scale=10)\n",
        "\n",
        "# Create hyperparameter options\n",
        "hyperparameters = dict(C=C)\n",
        "\n",
        "#Using RandomizedSearchCV\n",
        "model = RandomizedSearchCV(LogisticRegression(penalty='l2'), hyperparameters, scoring='accuracy', cv=3,n_jobs=-1,pre_dispatch=2)\n",
        "model.fit(X_train_vec_standardized, Y_train)\n",
        "print(\"Model with best parameters :\\n\",model.best_estimator_)\n",
        "print(\"Accuracy of the model : \",model.score(X_test_vec_standardized, Y_test))\n",
        "\n",
        "optimal_C = model.best_estimator_.C\n",
        "print(\"The optimal value of C(1/lambda) is : \",optimal_C)\n",
        "\n",
        "# Logistic Regression with Optimal value of C i.e.(1/lambda)\n",
        "lr = LogisticRegression(penalty='l2', C=optimal_C, n_jobs=-1)\n",
        "lr.fit(X_train_vec_standardized,Y_train)\n",
        "predictions = lr.predict(X_test_vec_standardized)\n",
        "\n",
        "# Variables that will be used for  making table in Conclusion part of this assignment\n",
        "avg_w2v_l2_random_C = optimal_C\n",
        "avg_w2v_l2_random_train_acc = model.score(X_test_vec_standardized, Y_test)*100\n",
        "avg_w2v_l2_random_test_acc = accuracy_score(Y_test, predictions) * 100"
      ],
      "execution_count": 49,
      "outputs": [
        {
          "output_type": "stream",
          "text": [
            "Model with best parameters :\n",
            " LogisticRegression(C=6.449961639981268, class_weight=None, dual=False,\n",
            "          fit_intercept=True, intercept_scaling=1, max_iter=100,\n",
            "          multi_class='warn', n_jobs=None, penalty='l2', random_state=None,\n",
            "          solver='warn', tol=0.0001, verbose=0, warm_start=False)\n",
            "Accuracy of the model :  0.622093023255814\n",
            "The optimal value of C(1/lambda) is :  6.449961639981268\n"
          ],
          "name": "stdout"
        }
      ]
    },
    {
      "metadata": {
        "id": "qp2ypr_JmBWV",
        "colab_type": "text"
      },
      "cell_type": "markdown",
      "source": [
        "SEABORN HEATMAP FOR REPRESENTATION OF CONFUSION MATRIX :"
      ]
    },
    {
      "metadata": {
        "id": "bsJd2qcamBWW",
        "colab_type": "code",
        "colab": {
          "base_uri": "https://localhost:8080/",
          "height": 502
        },
        "outputId": "af4b83d7-b84e-4c68-f67b-67540740ea1c"
      },
      "cell_type": "code",
      "source": [
        "# Code for drawing seaborn heatmaps\n",
        "class_names = ['Nature','Mythology & Folklore', 'Nature']\n",
        "df_heatmap = pd.DataFrame(confusion_matrix(Y_test, predictions), index=class_names, columns=class_names )\n",
        "fig = plt.figure(figsize=(10,7))\n",
        "heatmap = sns.heatmap(df_heatmap, annot=True, fmt=\"d\")\n",
        "\n",
        "# Setting tick labels for heatmap\n",
        "heatmap.yaxis.set_ticklabels(heatmap.yaxis.get_ticklabels(), rotation=0, ha='right', fontsize=14)\n",
        "heatmap.xaxis.set_ticklabels(heatmap.xaxis.get_ticklabels(), rotation=0, ha='right', fontsize=14)\n",
        "plt.ylabel('Predicted label',size=18)\n",
        "plt.xlabel('True label',size=18)\n",
        "plt.title(\"Confusion Matrix\\n\",size=24)\n",
        "plt.show()"
      ],
      "execution_count": 50,
      "outputs": [
        {
          "output_type": "display_data",
          "data": {
            "image/png": "[encoded data removed]",
            "text/plain": [
              "<Figure size 720x504 with 2 Axes>"
            ]
          },
          "metadata": {
            "tags": []
          }
        }
      ]
    },
    {
      "metadata": {
        "id": "SnVB1lAZmBWY",
        "colab_type": "text"
      },
      "cell_type": "markdown",
      "source": [
        "# (3.b) L1 Regularisation (Logistic Regression)"
      ]
    },
    {
      "metadata": {
        "id": "r60zJxbrmBWZ",
        "colab_type": "text"
      },
      "cell_type": "markdown",
      "source": [
        "# GridSearchCV Implementation"
      ]
    },
    {
      "metadata": {
        "id": "p8SDU0FUmBWZ",
        "colab_type": "code",
        "colab": {
          "base_uri": "https://localhost:8080/",
          "height": 136
        },
        "outputId": "7fbee214-c14e-4cb2-9732-ad159fd89da1"
      },
      "cell_type": "code",
      "source": [
        "tuned_parameters = [{'C': [10**-4, 10**-2, 10**0, 10**2, 10**4]}]\n",
        "#Using GridSearchCV\n",
        "model = GridSearchCV(LogisticRegression(penalty='l1'), tuned_parameters, scoring = 'accuracy', cv=3 ,n_jobs=-1, pre_dispatch=2)\n",
        "model.fit(X_train_vec_standardized, Y_train)\n",
        "print(\"Model with best parameters :\\n\",model.best_estimator_)\n",
        "print(\"Accuracy of the model : \",model.score(X_test_vec_standardized, Y_test))\n",
        "\n",
        "optimal_C = model.best_estimator_.C\n",
        "print(\"The optimal value of C(1/lambda) is : \",optimal_C)\n",
        "\n",
        "# Logistic Regression with Optimal value of C i.e.(1/lambda)\n",
        "lr = LogisticRegression(penalty='l1', C=optimal_C, n_jobs=-1)\n",
        "lr.fit(X_train_vec_standardized,Y_train)\n",
        "predictions = lr.predict(X_test_vec_standardized)\n",
        "\n",
        "# Variables that will be used for  making table in Conclusion part of this assignment\n",
        "avg_w2v_l1_grid_C = optimal_C\n",
        "avg_w2v_l1_grid_train_acc = model.score(X_test_vec_standardized, Y_test)*100\n",
        "avg_w2v_l1_grid_test_acc = accuracy_score(Y_test, predictions) * 100"
      ],
      "execution_count": 51,
      "outputs": [
        {
          "output_type": "stream",
          "text": [
            "Model with best parameters :\n",
            " LogisticRegression(C=1, class_weight=None, dual=False, fit_intercept=True,\n",
            "          intercept_scaling=1, max_iter=100, multi_class='warn',\n",
            "          n_jobs=None, penalty='l1', random_state=None, solver='warn',\n",
            "          tol=0.0001, verbose=0, warm_start=False)\n",
            "Accuracy of the model :  0.5813953488372093\n",
            "The optimal value of C(1/lambda) is :  1\n"
          ],
          "name": "stdout"
        }
      ]
    },
    {
      "metadata": {
        "id": "eM-u4xqgmBWj",
        "colab_type": "text"
      },
      "cell_type": "markdown",
      "source": [
        "SEABORN HEATMAP FOR REPRESENTATION OF CONFUSION MATRIX :"
      ]
    },
    {
      "metadata": {
        "id": "q9F6oTeDmBWj",
        "colab_type": "code",
        "colab": {
          "base_uri": "https://localhost:8080/",
          "height": 502
        },
        "outputId": "f863d0ff-b6ca-4699-97a2-01fa7c5c796f"
      },
      "cell_type": "code",
      "source": [
        "# Code for drawing seaborn heatmaps\n",
        "class_names = ['Nature','Mythology & Folklore', 'Nature']\n",
        "df_heatmap = pd.DataFrame(confusion_matrix(Y_test, predictions), index=class_names, columns=class_names )\n",
        "fig = plt.figure(figsize=(10,7))\n",
        "heatmap = sns.heatmap(df_heatmap, annot=True, fmt=\"d\")\n",
        "\n",
        "# Setting tick labels for heatmap\n",
        "heatmap.yaxis.set_ticklabels(heatmap.yaxis.get_ticklabels(), rotation=0, ha='right', fontsize=14)\n",
        "heatmap.xaxis.set_ticklabels(heatmap.xaxis.get_ticklabels(), rotation=0, ha='right', fontsize=14)\n",
        "plt.ylabel('Predicted label',size=18)\n",
        "plt.xlabel('True label',size=18)\n",
        "plt.title(\"Confusion Matrix\\n\",size=24)\n",
        "plt.show()"
      ],
      "execution_count": 52,
      "outputs": [
        {
          "output_type": "display_data",
          "data": {
            "image/png": "[encoded data removed]",
            "text/plain": [
              "<Figure size 720x504 with 2 Axes>"
            ]
          },
          "metadata": {
            "tags": []
          }
        }
      ]
    },
    {
      "metadata": {
        "id": "yOq0NASlmBW4",
        "colab_type": "text"
      },
      "cell_type": "markdown",
      "source": [
        "# RandomizedSearchCV Implementation"
      ]
    },
    {
      "metadata": {
        "id": "4hOSCCXlmBW4",
        "colab_type": "code",
        "colab": {
          "base_uri": "https://localhost:8080/",
          "height": 136
        },
        "outputId": "35db704a-1f44-4b49-a320-1614f4feb3f5"
      },
      "cell_type": "code",
      "source": [
        "# Create regularization hyperparameter distribution using uniform distribution\n",
        "C = uniform(loc=0, scale=10)\n",
        "\n",
        "# Create hyperparameter options\n",
        "hyperparameters = dict(C=C)\n",
        "\n",
        "#Using RandomizedSearchCV\n",
        "model = RandomizedSearchCV(LogisticRegression(penalty='l1'), hyperparameters, scoring='accuracy', cv=3,n_jobs=-1,pre_dispatch=2)\n",
        "model.fit(X_train_vec_standardized, Y_train)\n",
        "print(\"Model with best parameters :\\n\",model.best_estimator_)\n",
        "print(\"Accuracy of the model : \",model.score(X_test_vec_standardized, Y_test))\n",
        "\n",
        "optimal_C = model.best_estimator_.C\n",
        "print(\"The optimal value of C(1/lambda) is : \",optimal_C)\n",
        "\n",
        "# Logistic Regression with Optimal value of C i.e.(1/lambda)\n",
        "lr = LogisticRegression(penalty='l1', C=optimal_C, n_jobs=-1)\n",
        "lr.fit(X_train_vec_standardized,Y_train)\n",
        "predictions = lr.predict(X_test_vec_standardized)\n",
        "\n",
        "# Variables that will be used for  making table in Conclusion part of this assignment\n",
        "avg_w2v_l1_random_C = optimal_C\n",
        "avg_w2v_l1_random_train_acc = model.score(X_test_vec_standardized, Y_test)*100\n",
        "avg_w2v_l1_random_test_acc = accuracy_score(Y_test, predictions) * 100"
      ],
      "execution_count": 53,
      "outputs": [
        {
          "output_type": "stream",
          "text": [
            "Model with best parameters :\n",
            " LogisticRegression(C=6.896529331898334, class_weight=None, dual=False,\n",
            "          fit_intercept=True, intercept_scaling=1, max_iter=100,\n",
            "          multi_class='warn', n_jobs=None, penalty='l1', random_state=None,\n",
            "          solver='warn', tol=0.0001, verbose=0, warm_start=False)\n",
            "Accuracy of the model :  0.6162790697674418\n",
            "The optimal value of C(1/lambda) is :  6.896529331898334\n"
          ],
          "name": "stdout"
        }
      ]
    },
    {
      "metadata": {
        "id": "ev3-38ptmBW-",
        "colab_type": "text"
      },
      "cell_type": "markdown",
      "source": [
        "SEABORN HEATMAP FOR REPRESENTATION OF CONFUSION MATRIX :"
      ]
    },
    {
      "metadata": {
        "id": "GcT5Y665mBW-",
        "colab_type": "code",
        "colab": {
          "base_uri": "https://localhost:8080/",
          "height": 502
        },
        "outputId": "7ef1b313-cb42-4418-ee34-cd6f5042927d"
      },
      "cell_type": "code",
      "source": [
        "# Code for drawing seaborn heatmaps\n",
        "class_names = ['Nature','Mythology & Folklore', 'Nature']\n",
        "df_heatmap = pd.DataFrame(confusion_matrix(Y_test, predictions), index=class_names, columns=class_names )\n",
        "fig = plt.figure(figsize=(10,7))\n",
        "heatmap = sns.heatmap(df_heatmap, annot=True, fmt=\"d\")\n",
        "\n",
        "# Setting tick labels for heatmap\n",
        "heatmap.yaxis.set_ticklabels(heatmap.yaxis.get_ticklabels(), rotation=0, ha='right', fontsize=14)\n",
        "heatmap.xaxis.set_ticklabels(heatmap.xaxis.get_ticklabels(), rotation=0, ha='right', fontsize=14)\n",
        "plt.ylabel('Predicted label',size=18)\n",
        "plt.xlabel('True label',size=18)\n",
        "plt.title(\"Confusion Matrix\\n\",size=24)\n",
        "plt.show()"
      ],
      "execution_count": 54,
      "outputs": [
        {
          "output_type": "display_data",
          "data": {
            "image/png": "[encoded data removed]",
            "text/plain": [
              "<Figure size 720x504 with 2 Axes>"
            ]
          },
          "metadata": {
            "tags": []
          }
        }
      ]
    },
    {
      "metadata": {
        "id": "MOuuy-GTmBYl",
        "colab_type": "text"
      },
      "cell_type": "markdown",
      "source": [
        "# CONCLUSION :-"
      ]
    },
    {
      "metadata": {
        "id": "yoPNa9_ZyPDS",
        "colab_type": "code",
        "colab": {}
      },
      "cell_type": "code",
      "source": [
        "!sudo pip3 install PTable"
      ],
      "execution_count": 0,
      "outputs": []
    },
    {
      "metadata": {
        "id": "GU4bEKY3xqCU",
        "colab_type": "code",
        "colab": {
          "base_uri": "https://localhost:8080/",
          "height": 289
        },
        "outputId": "e78a3bb0-5438-4c96-db9d-b0fb9e454c9d"
      },
      "cell_type": "code",
      "source": [
        "from prettytable import PrettyTable\n",
        "    \n",
        "x = PrettyTable()\n",
        "\n",
        "x.field_names = [\"Model\", \"Hyperparameter (c)\", \"Accuracy\"]\n",
        "\n",
        "x.add_row([\"LR(l2|GridSearchCV) for BoW\", 0.001, 0.5755813953488372])\n",
        "x.add_row([\"LR(l2|RandomizedSearchCV) for BoW\", 0.08928012502445681, 0.6104651162790697])\n",
        "x.add_row([\"LR(l1|GridSearchCV) for BoW\", 1, 0.6162790697674418])\n",
        "x.add_row([\"LR(l1|RandomizedSearchCV) for BoW\", 0.5836782637540139, 0.6162790697674418])\n",
        "x.add_row([\"LR(l2|GridSearchCV) for TF-IDF\", 0.01, 0.9245704451625305])\n",
        "x.add_row([\"LR(l2|RandomizedSearchCV) for TF-IDF\", 0.4409278667306049, 0.6046511627906976])\n",
        "x.add_row([\"LR(l1|GridSearchCV) for TF-IDF\", 0.0001, 0.5290697674418605])\n",
        "x.add_row([\"LR(l1|RandomizedSearchCV) for TF-IDF\", 0.36243600426237643, 0.6395348837209303])\n",
        "x.add_row([\"LR(l2|GridSearchCV) for Avg-w2v\", 1, 0.5872093023255814])\n",
        "x.add_row([\"LR(l2|RandomizedSearchCV) for Avg-w2v\", 6.449961639981268, 0.622093023255814])\n",
        "x.add_row([\"LR(l1|GridSearchCV) for Avg-w2v\", 1, 0.5813953488372093])\n",
        "x.add_row([\"LR(l1|RandomizedSearchCV) for Avg-w2v\", 6.896529331898334, 0.6162790697674418])\n",
        "\n",
        "print(x)"
      ],
      "execution_count": 58,
      "outputs": [
        {
          "output_type": "stream",
          "text": [
            "+---------------------------------------+---------------------+--------------------+\n",
            "|                 Model                 |  Hyperparameter (c) |      Accuracy      |\n",
            "+---------------------------------------+---------------------+--------------------+\n",
            "|      LR(l2|GridSearchCV) for BoW      |        0.001        | 0.5755813953488372 |\n",
            "|   LR(l2|RandomizedSearchCV) for BoW   | 0.08928012502445681 | 0.6104651162790697 |\n",
            "|      LR(l1|GridSearchCV) for BoW      |          1          | 0.6162790697674418 |\n",
            "|   LR(l1|RandomizedSearchCV) for BoW   |  0.5836782637540139 | 0.6162790697674418 |\n",
            "|     LR(l2|GridSearchCV) for TF-IDF    |         0.01        | 0.9245704451625305 |\n",
            "|  LR(l2|RandomizedSearchCV) for TF-IDF |  0.4409278667306049 | 0.6046511627906976 |\n",
            "|     LR(l1|GridSearchCV) for TF-IDF    |        0.0001       | 0.5290697674418605 |\n",
            "|  LR(l1|RandomizedSearchCV) for TF-IDF | 0.36243600426237643 | 0.6395348837209303 |\n",
            "|    LR(l2|GridSearchCV) for Avg-w2v    |          1          | 0.5872093023255814 |\n",
            "| LR(l2|RandomizedSearchCV) for Avg-w2v |  6.449961639981268  | 0.622093023255814  |\n",
            "|    LR(l1|GridSearchCV) for Avg-w2v    |          1          | 0.5813953488372093 |\n",
            "| LR(l1|RandomizedSearchCV) for Avg-w2v |  6.896529331898334  | 0.6162790697674418 |\n",
            "+---------------------------------------+---------------------+--------------------+\n"
          ],
          "name": "stdout"
        }
      ]
    },
    {
      "metadata": {
        "id": "8pxSHtX53uK6",
        "colab_type": "text"
      },
      "cell_type": "markdown",
      "source": [
        "After the analysis of 573 data points we conclude that the best model is when we apply **LR(l2|GridSearchCV) for TF-IDF** with\n",
        "\n",
        "**Hyperparameter (c) = 0.01**\n",
        "\n",
        "**Accuracy = 92.45704451625305%**\n"
      ]
    }
  ]
}