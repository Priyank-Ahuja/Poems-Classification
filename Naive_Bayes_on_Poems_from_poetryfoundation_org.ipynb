{
  "nbformat": 4,
  "nbformat_minor": 0,
  "metadata": {
    "colab": {
      "name": "Naive Bayes on Poems from poetryfoundation.org.ipynb",
      "version": "0.3.2",
      "provenance": [],
      "collapsed_sections": []
    },
    "kernelspec": {
      "name": "python3",
      "display_name": "Python 3"
    }
  },
  "cells": [
    {
      "metadata": {
        "id": "KfKx4g50y0vb",
        "colab_type": "text"
      },
      "cell_type": "markdown",
      "source": [
        "#Perfoming Naive Bayes on Poems from poetryfoundation.org\n",
        "\n",
        "Data Source: https://www.kaggle.com/ultrajack/modern-renaissance-poetry\n",
        "\n",
        "Poems from poetryfoundation.org dataset consists of poems from different genres.\n",
        "\n",
        "Number of poems : 573\n",
        "\n",
        "Number of Attributes/Columns in data : 5\n",
        "\n",
        "###Attribute Information:\n",
        "\n",
        "1. author - author name\n",
        "2. content - poem content\n",
        "3. poem name\n",
        "4. Age - poetry style era\n",
        "5. type - category/genre \n",
        "\n",
        "###Objective:\n",
        "\n",
        "Given a poem, determine whether the genre that poem belong to."
      ]
    },
    {
      "metadata": {
        "id": "oPA5SeJ_y97B",
        "colab_type": "text"
      },
      "cell_type": "markdown",
      "source": [
        "##1. Reading Data\n",
        "\n",
        "###1.1. Loading Data\n",
        "\n",
        "The dataset is available in csv file\n"
      ]
    },
    {
      "metadata": {
        "id": "qrXSaM7raAXV",
        "colab_type": "code",
        "colab": {}
      },
      "cell_type": "code",
      "source": [
        "!pip install paramiko"
      ],
      "execution_count": 0,
      "outputs": []
    },
    {
      "metadata": {
        "id": "pT9FKo-JsILg",
        "colab_type": "code",
        "colab": {}
      },
      "cell_type": "code",
      "source": [
        "%matplotlib inline\n",
        "import warnings\n",
        "warnings.filterwarnings(\"ignore\")\n",
        "\n",
        "\n",
        "import sqlite3\n",
        "import pandas as pd\n",
        "import numpy as np\n",
        "import nltk\n",
        "import string\n",
        "import matplotlib.pyplot as plt\n",
        "import seaborn as sns\n",
        "from sklearn.feature_extraction.text import TfidfTransformer\n",
        "from sklearn.feature_extraction.text import TfidfVectorizer\n",
        "\n",
        "from sklearn.feature_extraction.text import CountVectorizer\n",
        "from sklearn import metrics\n",
        "from sklearn.metrics import accuracy_score,confusion_matrix,f1_score,precision_score,recall_score\n",
        "from nltk.stem.porter import PorterStemmer\n",
        "import sklearn\n",
        "import re\n",
        "\n",
        "import string\n",
        "from nltk.corpus import stopwords\n",
        "from nltk.stem import PorterStemmer\n",
        "from nltk.stem.wordnet import WordNetLemmatizer\n",
        "\n",
        "from gensim.models import Word2Vec\n",
        "from gensim.models import KeyedVectors\n",
        "import pickle\n",
        "\n",
        "from tqdm import tqdm\n",
        "import os\n",
        "\n",
        "from sklearn.model_selection import train_test_split\n",
        "from sklearn.neighbors import KNeighborsClassifier\n",
        "from sklearn.metrics import accuracy_score\n",
        "from sklearn.model_selection import cross_val_score\n",
        "from collections import Counter\n",
        "from sklearn.model_selection import cross_validate\n",
        "\n",
        "from sklearn.naive_bayes import BernoulliNB"
      ],
      "execution_count": 0,
      "outputs": []
    },
    {
      "metadata": {
        "id": "SgSzAyLWzCpV",
        "colab_type": "code",
        "colab": {}
      },
      "cell_type": "code",
      "source": [
        "from google.colab import files\n",
        "uploaded = files.upload()"
      ],
      "execution_count": 0,
      "outputs": []
    },
    {
      "metadata": {
        "id": "ORhaCeNUzHKe",
        "colab_type": "code",
        "colab": {}
      },
      "cell_type": "code",
      "source": [
        "import io\n",
        "final = pd.read_csv(io.BytesIO(uploaded['all.csv']))"
      ],
      "execution_count": 0,
      "outputs": []
    },
    {
      "metadata": {
        "id": "X74dBHExz9Dx",
        "colab_type": "code",
        "outputId": "ea355b3a-27e2-4392-8894-e52caedc34d7",
        "colab": {
          "base_uri": "https://localhost:8080/",
          "height": 102
        }
      },
      "cell_type": "code",
      "source": [
        "#Before starting preprocessing lets see the number of entries left\n",
        "print(final.shape)\n",
        "\n",
        "#How many Love, Nature and Mythology poems are present in our dataset?\n",
        "final['type'].value_counts()"
      ],
      "execution_count": 9,
      "outputs": [
        {
          "output_type": "stream",
          "text": [
            "(573, 5)\n"
          ],
          "name": "stdout"
        },
        {
          "output_type": "execute_result",
          "data": {
            "text/plain": [
              "Love                    326\n",
              "Nature                  188\n",
              "Mythology & Folklore     59\n",
              "Name: type, dtype: int64"
            ]
          },
          "metadata": {
            "tags": []
          },
          "execution_count": 9
        }
      ]
    },
    {
      "metadata": {
        "id": "qXjKlid80BrU",
        "colab_type": "text"
      },
      "cell_type": "markdown",
      "source": [
        "##3. Preprocessing \n",
        "\n",
        "###3.1. Preprocessing Review Text\n",
        "\n",
        "Now our data requires some preprocessing before we go on further with analysis and making the prediction model.\n",
        "\n",
        "Hence in the Preprocessing phase we do the following in the order below:-\n",
        "\n",
        "1. Begin by removing the html tags\n",
        "2. Remove any punctuations or limited set of special characters like , or . or # etc.\n",
        "3. Check if the word is made up of english letters and is not alpha-numeric\n",
        "4. Check to see if the length of the word is greater than 2 (as it was researched that there is no adjective in 2-letters)\n",
        "5. Convert the word to lowercase\n",
        "6. Remove Stopwords\n",
        "7. Finally Snowball Stemming the word (it was obsereved to be better than Porter Stemming)\n",
        "\n",
        "After which we collect the words used to Love, Nature and Mythology poems"
      ]
    },
    {
      "metadata": {
        "id": "7czjH3Rnz-60",
        "colab_type": "code",
        "colab": {}
      },
      "cell_type": "code",
      "source": [
        "# find sentences containing HTML tags\n",
        "import re\n",
        "i=0;\n",
        "for sent in final['content'].values:\n",
        "    if (len(re.findall('<.*?>', sent))):\n",
        "        print(i)\n",
        "        print(sent)\n",
        "        break;\n",
        "    i += 1;"
      ],
      "execution_count": 0,
      "outputs": []
    },
    {
      "metadata": {
        "id": "hG7dSvU00FMy",
        "colab_type": "code",
        "colab": {}
      },
      "cell_type": "code",
      "source": [
        "nltk.download(\"stopwords\")"
      ],
      "execution_count": 0,
      "outputs": []
    },
    {
      "metadata": {
        "id": "DkrXnD1l0HjE",
        "colab_type": "code",
        "outputId": "c9aa4e72-dfa6-44f9-c592-b09c27a73490",
        "colab": {
          "base_uri": "https://localhost:8080/",
          "height": 54
        }
      },
      "cell_type": "code",
      "source": [
        "stop = set(stopwords.words('english')) #set of stopwords\n",
        "sno = nltk.stem.SnowballStemmer('english') #initialising the snowball stemmer\n",
        "\n",
        "def cleanhtml(sentence): #function to clean the word of any html-tags\n",
        "    cleanr = re.compile('<.*?>')\n",
        "    cleantext = re.sub(cleanr, ' ', sentence)\n",
        "    return cleantext\n",
        "def cleanpunc(sentence): #function to clean the word of any punctuation or special characters\n",
        "    cleaned = re.sub(r'[?|!|\\'|\"|#]',r'',sentence)\n",
        "    cleaned = re.sub(r'[.|,|)|(|\\|/]',r' ',cleaned)\n",
        "    return  cleaned\n",
        "print(stop)\n"
      ],
      "execution_count": 12,
      "outputs": [
        {
          "output_type": "stream",
          "text": [
            "{'above', 'which', 'both', 'there', 'yourself', 'having', 'hadn', 'them', 'ma', 'below', 'were', 'than', 'between', 'y', 'wasn', \"aren't\", 'shan', 'won', 'most', 'was', 'same', 'once', 'more', \"needn't\", 'her', 'when', 'does', 'shouldn', 'they', 'had', 'it', 'are', 'didn', \"isn't\", 'few', 'wouldn', \"doesn't\", 'is', 'with', 'what', \"wouldn't\", 'have', 'for', 've', 'nor', 'itself', 'do', 'own', 'the', 'to', 'under', 'haven', 'hers', 'some', 'into', 'aren', \"couldn't\", 'has', 'on', 'these', 'those', 'up', 'too', 'should', 'o', 'mustn', 'other', 'such', 'mightn', 'couldn', 'all', 'isn', 'needn', \"that'll\", 'until', 'further', 'me', 'you', 'now', 'd', \"mustn't\", 'who', 'but', 'him', \"you've\", 'any', 's', 'been', 'herself', 'by', 'where', 'himself', 'i', 'why', 'he', 'from', 'yourselves', 'over', 'its', \"it's\", 'so', \"you'll\", \"she's\", 'she', 'did', 'ours', 'through', \"won't\", \"don't\", 'just', 'during', 'here', 'theirs', 're', 'that', 'as', 'down', 'm', \"wasn't\", 'doing', 't', 'only', 'again', 'each', 'myself', 'be', 'in', 'we', 'if', 'an', 'ourselves', 'then', 'doesn', 'being', 'am', \"haven't\", \"you're\", 'this', \"weren't\", 'while', 'or', 'of', 'their', 'will', 'weren', \"hasn't\", \"didn't\", 'my', 'themselves', 'can', 'and', 'against', \"should've\", \"shan't\", 'about', \"shouldn't\", 'at', 'because', 'off', 'hasn', 'no', 'll', 'before', \"mightn't\", 'out', 'whom', 'his', 'a', 'not', 'don', 'ain', 'after', \"hadn't\", 'yours', \"you'd\", 'very', 'your', 'how', 'our'}\n"
          ],
          "name": "stdout"
        }
      ]
    },
    {
      "metadata": {
        "id": "L7kPVA790Jnl",
        "colab_type": "code",
        "outputId": "857b0a83-6f93-486f-b40b-18d260fa7f1a",
        "colab": {
          "base_uri": "https://localhost:8080/",
          "height": 34
        }
      },
      "cell_type": "code",
      "source": [
        "# Combining all the above stundents \n",
        "from tqdm import tqdm\n",
        "\n",
        "i=0\n",
        "str1=' '\n",
        "final_string=[]\n",
        "all_love_words=[] # store words from love poems here\n",
        "all_nature_words=[] # store words from nature poems here.\n",
        "all_mythology_words=[] # store words from mythology poems here.\n",
        "s=''\n",
        "for sent in tqdm(final['content'].values):\n",
        "    filtered_sentence=[]\n",
        "    #print(sent);\n",
        "    sent=cleanhtml(sent) # remove HTMl tags\n",
        "    for w in sent.split():\n",
        "        for cleaned_words in cleanpunc(w).split():\n",
        "            if((cleaned_words.isalpha()) & (len(cleaned_words)>2)):    \n",
        "                if(cleaned_words.lower() not in stop):\n",
        "                    s=(sno.stem(cleaned_words.lower())).encode('utf8')\n",
        "                    filtered_sentence.append(s)\n",
        "                    if (final['type'].values)[i] == 'Love': \n",
        "                        all_love_words.append(s) #list of all words used to describe love poems\n",
        "                    if(final['type'].values)[i] == 'Nature':\n",
        "                        all_nature_words.append(s) #list of all words used to describe nature poems\n",
        "                    if(final['type'].values)[i] == 'Mythology & Folklore':\n",
        "                        all_mythology_words.append(s) #list of all words used to describe mythology poems    \n",
        "                else:\n",
        "                    continue\n",
        "            else:\n",
        "                continue \n",
        "    #print(filtered_sentence)\n",
        "    str1 = b\" \".join(filtered_sentence) #final string of cleaned words\n",
        "    #print(\"***********************************************************************\")\n",
        "    \n",
        "    final_string.append(str1)\n",
        "    i+=1"
      ],
      "execution_count": 13,
      "outputs": [
        {
          "output_type": "stream",
          "text": [
            "100%|██████████| 573/573 [00:01<00:00, 307.26it/s]\n"
          ],
          "name": "stderr"
        }
      ]
    },
    {
      "metadata": {
        "id": "OsOnqzG20L_v",
        "colab_type": "code",
        "colab": {}
      },
      "cell_type": "code",
      "source": [
        "#after data suplication and preprocessing we are adding the CleanedText as a new attribute of our dataset\n",
        "final['CleanedText']=final_string\n",
        "final['CleanedText']=final['CleanedText'].str.decode(\"utf-8\")"
      ],
      "execution_count": 0,
      "outputs": []
    },
    {
      "metadata": {
        "id": "liWynTHy07Fm",
        "colab_type": "code",
        "outputId": "b3f1454c-4f74-4981-8845-867b1797c8a0",
        "colab": {
          "base_uri": "https://localhost:8080/",
          "height": 34
        }
      },
      "cell_type": "code",
      "source": [
        "final.shape"
      ],
      "execution_count": 15,
      "outputs": [
        {
          "output_type": "execute_result",
          "data": {
            "text/plain": [
              "(573, 6)"
            ]
          },
          "metadata": {
            "tags": []
          },
          "execution_count": 15
        }
      ]
    },
    {
      "metadata": {
        "id": "X458P_vz09ca",
        "colab_type": "code",
        "colab": {}
      },
      "cell_type": "code",
      "source": [
        "genre = final['type'].values\n",
        "text = final['CleanedText'].values"
      ],
      "execution_count": 0,
      "outputs": []
    },
    {
      "metadata": {
        "id": "g24m0fdZ0_1l",
        "colab_type": "code",
        "colab": {}
      },
      "cell_type": "code",
      "source": [
        "#splitting the dataset into train, test and cross validate \n",
        "x_train, x_test, y_train, y_test = train_test_split(text, genre, test_size=0.3)"
      ],
      "execution_count": 0,
      "outputs": []
    },
    {
      "metadata": {
        "id": "grKFRoJP1Bqy",
        "colab_type": "code",
        "outputId": "1cb5f5c0-d75a-4d96-b1ef-bd67084500e3",
        "colab": {
          "base_uri": "https://localhost:8080/",
          "height": 51
        }
      },
      "cell_type": "code",
      "source": [
        "print(x_train.shape, y_train.shape)\n",
        "print(x_test.shape, y_test.shape)"
      ],
      "execution_count": 18,
      "outputs": [
        {
          "output_type": "stream",
          "text": [
            "(401,) (401,)\n",
            "(172,) (172,)\n"
          ],
          "name": "stdout"
        }
      ]
    },
    {
      "metadata": {
        "id": "dlibigXY1Dmw",
        "colab_type": "code",
        "outputId": "ab7859e7-6815-4d15-ee3c-695ec1ef5a5a",
        "colab": {
          "base_uri": "https://localhost:8080/",
          "height": 51
        }
      },
      "cell_type": "code",
      "source": [
        "print(\"Number of love, nature and mythology datapoints in our train dataset\")\n",
        "unique, counts = np.unique(y_train, return_counts=True)\n",
        "dict(zip(unique, counts))"
      ],
      "execution_count": 19,
      "outputs": [
        {
          "output_type": "stream",
          "text": [
            "Number of love, nature and mythology datapoints in our train dataset\n"
          ],
          "name": "stdout"
        },
        {
          "output_type": "execute_result",
          "data": {
            "text/plain": [
              "{'Love': 228, 'Mythology & Folklore': 39, 'Nature': 134}"
            ]
          },
          "metadata": {
            "tags": []
          },
          "execution_count": 19
        }
      ]
    },
    {
      "metadata": {
        "id": "sXjnBsm61HMp",
        "colab_type": "code",
        "outputId": "9ffa3c41-dd18-4573-bf8a-883f2787168f",
        "colab": {
          "base_uri": "https://localhost:8080/",
          "height": 51
        }
      },
      "cell_type": "code",
      "source": [
        "print(\"Number of love, nature and mythology datapoints in our test dataset\")\n",
        "unique, counts = np.unique(y_test, return_counts=True)\n",
        "dict(zip(unique, counts))"
      ],
      "execution_count": 20,
      "outputs": [
        {
          "output_type": "stream",
          "text": [
            "Number of love, nature and mythology datapoints in our test dataset\n"
          ],
          "name": "stdout"
        },
        {
          "output_type": "execute_result",
          "data": {
            "text/plain": [
              "{'Love': 98, 'Mythology & Folklore': 20, 'Nature': 54}"
            ]
          },
          "metadata": {
            "tags": []
          },
          "execution_count": 20
        }
      ]
    },
    {
      "metadata": {
        "id": "nkDdRqB3lr2L",
        "colab_type": "text"
      },
      "cell_type": "markdown",
      "source": [
        "##4. Applying Bernoulli Naive Bayes\n",
        "\n",
        "###4.1. on Bag of Words"
      ]
    },
    {
      "metadata": {
        "id": "GJGTDcgW1Okf",
        "colab_type": "code",
        "outputId": "851adfee-f662-4c80-903d-ca68863daedb",
        "colab": {
          "base_uri": "https://localhost:8080/",
          "height": 34
        }
      },
      "cell_type": "code",
      "source": [
        "#coveting text to vectors using BOW \n",
        "#will be coverting train, test and cross validate datasets seperately to overcome data leakage problem\n",
        "\n",
        "count_vect = CountVectorizer() #in scikit-learn\n",
        "\n",
        "#converting train data to vectors using BOW\n",
        "bow_x_train = count_vect.fit_transform(x_train) \n",
        "bow_x_train.shape"
      ],
      "execution_count": 21,
      "outputs": [
        {
          "output_type": "execute_result",
          "data": {
            "text/plain": [
              "(401, 6073)"
            ]
          },
          "metadata": {
            "tags": []
          },
          "execution_count": 21
        }
      ]
    },
    {
      "metadata": {
        "id": "RPDpdp7KmHqW",
        "colab_type": "code",
        "outputId": "5bc8c4e8-4e0f-4f2a-d47d-557172c1b6ac",
        "colab": {
          "base_uri": "https://localhost:8080/",
          "height": 34
        }
      },
      "cell_type": "code",
      "source": [
        "#converting test data to vectors using BOW\n",
        "bow_x_test = count_vect.transform(x_test)\n",
        "bow_x_test.shape"
      ],
      "execution_count": 22,
      "outputs": [
        {
          "output_type": "execute_result",
          "data": {
            "text/plain": [
              "(172, 6073)"
            ]
          },
          "metadata": {
            "tags": []
          },
          "execution_count": 22
        }
      ]
    },
    {
      "metadata": {
        "id": "6JCXCGjjnpBk",
        "colab_type": "code",
        "outputId": "21c759a3-d678-48c0-eea3-48f71cf10829",
        "colab": {
          "base_uri": "https://localhost:8080/",
          "height": 316
        }
      },
      "cell_type": "code",
      "source": [
        "#taking alpha values from 10^-3 to 10^3\n",
        "alpha_values = []\n",
        "i = 0.001\n",
        "while(i<=1000):\n",
        "    alpha_values.append(np.round(i,3))\n",
        "    i *= 3\n",
        "    \n",
        "cv_scores = [] #list to keep cross validate score\n",
        "for k in tqdm(alpha_values):\n",
        "    bnb = BernoulliNB(alpha=k)\n",
        "    scores = cross_val_score(bnb, bow_x_train, y_train, cv=10, scoring='accuracy', n_jobs=-1) #cv = 10 to perform 10 fold cross validation \n",
        "    cv_scores.append(scores.mean())\n",
        "\n",
        "#calculating Mssclassification error    \n",
        "error = [1 - x for x in cv_scores]\n",
        "\n",
        "#determing optimal alpha with least missclassification error value\n",
        "optimal_alpha = alpha_values[error.index(min(error))]\n",
        "print(optimal_alpha)\n",
        "\n",
        "#graph between missclassification error and hyperparameter values \n",
        "plt.plot(alpha_values, error)\n",
        "xy = (optimal_alpha, min(error))\n",
        "plt.annotate('(%s, %s)' % xy, xy = xy, textcoords='data')\n",
        "plt.xlabel(\"Number of neighbours 'k'\")\n",
        "plt.ylabel(\"Misclassification Error\")\n",
        "plt.show()\n",
        "    "
      ],
      "execution_count": 23,
      "outputs": [
        {
          "output_type": "stream",
          "text": [
            "100%|██████████| 13/13 [00:02<00:00,  4.57it/s]\n"
          ],
          "name": "stderr"
        },
        {
          "output_type": "stream",
          "text": [
            "0.009\n"
          ],
          "name": "stdout"
        },
        {
          "output_type": "display_data",
          "data": {
            "image/png": "[encoded data removed]",
            "text/plain": [
              "<Figure size 432x288 with 1 Axes>"
            ]
          },
          "metadata": {
            "tags": []
          }
        }
      ]
    },
    {
      "metadata": {
        "id": "pF93eZFrodQW",
        "colab_type": "code",
        "outputId": "5cc089bc-ecd9-442b-a5c7-5208b3e8cf18",
        "colab": {
          "base_uri": "https://localhost:8080/",
          "height": 85
        }
      },
      "cell_type": "code",
      "source": [
        "#applying Bernoulli Naive Bayes on the optimal alpha calculated (0.009)\n",
        "\n",
        "#initiate model\n",
        "bnb = BernoulliNB(alpha = optimal_alpha)\n",
        "\n",
        "#fit model\n",
        "bnb.fit(bow_x_train, y_train)\n",
        "\n",
        "#predicting values for test data\n",
        "y_test_pred =  bnb.predict(bow_x_test)\n",
        "\n",
        "#calculating accuracy of model\n",
        "train_acc = bnb.score(bow_x_train, y_train) #train accuracy\n",
        "train_error = 1 - train_acc #train error\n",
        "test_acc = accuracy_score(y_test, y_test_pred) #test accuracy\n",
        "test_error = 1 - test_acc #test error\n",
        "\n",
        "print(\"Training Accuracy: \", train_acc)\n",
        "print(\"Train Error: \", train_error)\n",
        "print(\"Test Accuracy: \", test_acc)\n",
        "print(\"Test Error: \", test_error)"
      ],
      "execution_count": 24,
      "outputs": [
        {
          "output_type": "stream",
          "text": [
            "Training Accuracy:  0.8802992518703242\n",
            "Train Error:  0.1197007481296758\n",
            "Test Accuracy:  0.627906976744186\n",
            "Test Error:  0.37209302325581395\n"
          ],
          "name": "stdout"
        }
      ]
    },
    {
      "metadata": {
        "id": "HEnMHdtItJKk",
        "colab_type": "code",
        "outputId": "e8d7019d-e0aa-4c84-b085-7375548dbd68",
        "colab": {
          "base_uri": "https://localhost:8080/",
          "height": 1258
        }
      },
      "cell_type": "code",
      "source": [
        "#feature selection\n",
        "\n",
        "# Now we can find log probabilities of different features for all the classes\n",
        "class_features = bnb.feature_log_prob_\n",
        "\n",
        "#  row_0 is for 'love' class, row_1 is for 'mythology' class, row_2 is for 'nature' class\n",
        "love_features = class_features[0]\n",
        "mythology_features = class_features[1]\n",
        "nature_features = class_features[2]\n",
        "\n",
        "# Getting all feature names\n",
        "feature_names = count_vect.get_feature_names()\n",
        "\n",
        "# Sorting 'love_features', 'mythology_features' and 'nature_features' in descending order using argsort() function\n",
        "sorted_love_features = np.argsort(love_features)[::-1]\n",
        "sorted_mythology_features = np.argsort(mythology_features)[::-1]\n",
        "sorted_nature_features = np.argsort(nature_features)[::-1]\n",
        "\n",
        "print(\"Top 20 Important Features and their log probabilities For love Class :\\n\\n\")\n",
        "for i in list(sorted_love_features[0:20]):\n",
        "    print(\"%s\\t -->\\t%f  \"%(feature_names[i],love_features[i]))\n",
        "    \n",
        "print(\"\\n\\nTop 20 Important Features and their log probabilities For mythology Class :\\n\\n\")\n",
        "for i in list(sorted_mythology_features[0:20]):\n",
        "    print(\"%s\\t -->\\t%f  \"%(feature_names[i],mythology_features[i]))\n",
        "    \n",
        "print(\"\\n\\nTop 20 Important Features and their log probabilities For nature Class :\\n\\n\")\n",
        "for i in list(sorted_nature_features[0:20]):\n",
        "    print(\"%s\\t -->\\t%f  \"%(feature_names[i],nature_features[i]))    "
      ],
      "execution_count": 26,
      "outputs": [
        {
          "output_type": "stream",
          "text": [
            "Top 20 Important Features and their log probabilities For love Class :\n",
            "\n",
            "\n",
            "love\t -->\t-0.502106  \n",
            "eye\t -->\t-1.152633  \n",
            "make\t -->\t-1.270401  \n",
            "thi\t -->\t-1.270401  \n",
            "thou\t -->\t-1.334930  \n",
            "shall\t -->\t-1.334930  \n",
            "may\t -->\t-1.368826  \n",
            "doth\t -->\t-1.386215  \n",
            "hath\t -->\t-1.403912  \n",
            "yet\t -->\t-1.403912  \n",
            "heart\t -->\t-1.403912  \n",
            "like\t -->\t-1.403912  \n",
            "sweet\t -->\t-1.403912  \n",
            "beauti\t -->\t-1.458963  \n",
            "sinc\t -->\t-1.478008  \n",
            "one\t -->\t-1.497422  \n",
            "let\t -->\t-1.497422  \n",
            "time\t -->\t-1.517222  \n",
            "still\t -->\t-1.558036  \n",
            "fair\t -->\t-1.579086  \n",
            "\n",
            "\n",
            "Top 20 Important Features and their log probabilities For mythology Class :\n",
            "\n",
            "\n",
            "one\t -->\t-1.098382  \n",
            "great\t -->\t-1.098382  \n",
            "make\t -->\t-1.178367  \n",
            "like\t -->\t-1.178367  \n",
            "love\t -->\t-1.178367  \n",
            "made\t -->\t-1.265310  \n",
            "might\t -->\t-1.360538  \n",
            "beauti\t -->\t-1.360538  \n",
            "upon\t -->\t-1.360538  \n",
            "shall\t -->\t-1.360538  \n",
            "day\t -->\t-1.360538  \n",
            "may\t -->\t-1.360538  \n",
            "long\t -->\t-1.465799  \n",
            "eye\t -->\t-1.465799  \n",
            "yet\t -->\t-1.465799  \n",
            "old\t -->\t-1.465799  \n",
            "let\t -->\t-1.465799  \n",
            "new\t -->\t-1.465799  \n",
            "face\t -->\t-1.465799  \n",
            "publish\t -->\t-1.465799  \n",
            "\n",
            "\n",
            "Top 20 Important Features and their log probabilities For nature Class :\n",
            "\n",
            "\n",
            "permiss\t -->\t-1.208870  \n",
            "copyright\t -->\t-1.314205  \n",
            "poem\t -->\t-1.431957  \n",
            "like\t -->\t-1.530368  \n",
            "love\t -->\t-1.530368  \n",
            "see\t -->\t-1.639531  \n",
            "come\t -->\t-1.639531  \n",
            "eye\t -->\t-1.678738  \n",
            "day\t -->\t-1.678738  \n",
            "still\t -->\t-1.678738  \n",
            "upon\t -->\t-1.719545  \n",
            "may\t -->\t-1.719545  \n",
            "long\t -->\t-1.719545  \n",
            "shall\t -->\t-1.719545  \n",
            "reprint\t -->\t-1.762089  \n",
            "night\t -->\t-1.806523  \n",
            "use\t -->\t-1.853023  \n",
            "light\t -->\t-1.853023  \n",
            "doth\t -->\t-1.853023  \n",
            "one\t -->\t-1.853023  \n"
          ],
          "name": "stdout"
        }
      ]
    },
    {
      "metadata": {
        "id": "THnsriRgBoDM",
        "colab_type": "code",
        "outputId": "3804e671-4375-4586-c220-8e2f265e3545",
        "colab": {
          "base_uri": "https://localhost:8080/",
          "height": 153
        }
      },
      "cell_type": "code",
      "source": [
        "#evaluating confusion matrix for train and test\n",
        "from sklearn.metrics import confusion_matrix\n",
        "print(\"Train confusion matrix\")\n",
        "print(confusion_matrix(y_train, bnb.predict(bow_x_train)))\n",
        "print(\"Test confusion matrix\")\n",
        "print(confusion_matrix(y_test, bnb.predict(bow_x_test)))"
      ],
      "execution_count": 30,
      "outputs": [
        {
          "output_type": "stream",
          "text": [
            "Train confusion matrix\n",
            "[[204   2  22]\n",
            " [  5  23  11]\n",
            " [  6   2 126]]\n",
            "Test confusion matrix\n",
            "[[80  2 16]\n",
            " [ 8  2 10]\n",
            " [24  4 26]]\n"
          ],
          "name": "stdout"
        }
      ]
    },
    {
      "metadata": {
        "id": "wGt1ugdKMtQI",
        "colab_type": "text"
      },
      "cell_type": "markdown",
      "source": [
        "####Observation : \n",
        "1. Hyperparameter (alpha) = 0.009\n",
        "2. Train Accuracy = 0.8802992518703242\n",
        "3. Test Accuracy = 0.627906976744186"
      ]
    },
    {
      "metadata": {
        "id": "kqaCoElIptO3",
        "colab_type": "text"
      },
      "cell_type": "markdown",
      "source": [
        "###4.2. on TF-IDF"
      ]
    },
    {
      "metadata": {
        "id": "CviUH_2i7Qbv",
        "colab_type": "code",
        "outputId": "48550d9a-3371-448c-b916-a6ca60ff5bd0",
        "colab": {
          "base_uri": "https://localhost:8080/",
          "height": 34
        }
      },
      "cell_type": "code",
      "source": [
        "#coveting text to vectors using tf-idf \n",
        "\n",
        "tf_idf_vect = TfidfVectorizer(ngram_range=(1,2))\n",
        "\n",
        "#converting train data to vectors using tf-idf\n",
        "tf_idf_x_train = tf_idf_vect.fit_transform(x_train)\n",
        "tf_idf_x_train.shape"
      ],
      "execution_count": 31,
      "outputs": [
        {
          "output_type": "execute_result",
          "data": {
            "text/plain": [
              "(401, 32234)"
            ]
          },
          "metadata": {
            "tags": []
          },
          "execution_count": 31
        }
      ]
    },
    {
      "metadata": {
        "id": "iKZlVQyvqGIE",
        "colab_type": "code",
        "outputId": "38d482fa-1fdb-456a-f5f9-ae6f39c6337e",
        "colab": {
          "base_uri": "https://localhost:8080/",
          "height": 34
        }
      },
      "cell_type": "code",
      "source": [
        "#converting test data to vectors using tf-idf\n",
        "tf_idf_x_test = tf_idf_vect.transform(x_test)\n",
        "tf_idf_x_test.shape"
      ],
      "execution_count": 32,
      "outputs": [
        {
          "output_type": "execute_result",
          "data": {
            "text/plain": [
              "(172, 32234)"
            ]
          },
          "metadata": {
            "tags": []
          },
          "execution_count": 32
        }
      ]
    },
    {
      "metadata": {
        "id": "EdilP_Dar-cz",
        "colab_type": "code",
        "outputId": "3c9a2cf7-4465-4e89-d3f9-3408dd9a5162",
        "colab": {
          "base_uri": "https://localhost:8080/",
          "height": 313
        }
      },
      "cell_type": "code",
      "source": [
        "#taking alpha values from 10^-3 to 10^3\n",
        "alpha_values = []\n",
        "i = 0.001\n",
        "while(i<=1000):\n",
        "    alpha_values.append(np.round(i,3))\n",
        "    i *= 3\n",
        "    \n",
        "cv_scores = [] #list to keep cross validate score\n",
        "for k in tqdm(alpha_values):\n",
        "    bnb = BernoulliNB(alpha=k)\n",
        "    scores = cross_val_score(bnb, tf_idf_x_train, y_train, cv=10, scoring='accuracy', n_jobs=-1) #cv = 10 to perform 10 fold cross validation \n",
        "    cv_scores.append(scores.mean())\n",
        "\n",
        "#calculating Mssclassification error    \n",
        "error = [1 - x for x in cv_scores]\n",
        "\n",
        "#determing optimal alpha with least missclassification error value\n",
        "optimal_alpha = alpha_values[error.index(min(error))]\n",
        "print(optimal_alpha)\n",
        "\n",
        "#graph between missclassification error and hyperparameter values \n",
        "plt.plot(alpha_values, error)\n",
        "xy = (optimal_alpha, min(error))\n",
        "plt.annotate('(%s, %s)' % xy, xy = xy, textcoords='data')\n",
        "plt.xlabel(\"Number of neighbours 'k'\")\n",
        "plt.ylabel(\"Misclassification Error\")\n",
        "plt.show()"
      ],
      "execution_count": 33,
      "outputs": [
        {
          "output_type": "stream",
          "text": [
            "100%|██████████| 13/13 [00:02<00:00,  8.04it/s]\n"
          ],
          "name": "stderr"
        },
        {
          "output_type": "stream",
          "text": [
            "19.683\n"
          ],
          "name": "stdout"
        },
        {
          "output_type": "display_data",
          "data": {
            "image/png": "[encoded data removed]",
            "text/plain": [
              "<Figure size 432x288 with 1 Axes>"
            ]
          },
          "metadata": {
            "tags": []
          }
        }
      ]
    },
    {
      "metadata": {
        "id": "NMDVjyoNsn61",
        "colab_type": "code",
        "outputId": "98e01330-3733-4781-ea8d-3fc870665737",
        "colab": {
          "base_uri": "https://localhost:8080/",
          "height": 85
        }
      },
      "cell_type": "code",
      "source": [
        "#applying Bernoulli Naive Bayes on the optimal alpha calculated (19.683)\n",
        "\n",
        "#initiate model\n",
        "bnb = BernoulliNB(alpha = optimal_alpha)\n",
        "\n",
        "#fit model\n",
        "bnb.fit(tf_idf_x_train, y_train)\n",
        "\n",
        "#predicting values for test data\n",
        "y_test_pred =  bnb.predict(tf_idf_x_test)\n",
        "\n",
        "#calculating accuracy of model\n",
        "train_acc = bnb.score(tf_idf_x_train, y_train) #train accuracy\n",
        "train_error = 1 - train_acc #train error\n",
        "test_acc = accuracy_score(y_test, y_test_pred) #test accuracy\n",
        "test_error = 1 - test_acc #test error\n",
        "\n",
        "print(\"Training Accuracy: \", train_acc)\n",
        "print(\"Train Error: \", train_error)\n",
        "print(\"Test Accuracy: \", test_acc)\n",
        "print(\"Test Error: \", test_error)"
      ],
      "execution_count": 35,
      "outputs": [
        {
          "output_type": "stream",
          "text": [
            "Training Accuracy:  0.5685785536159601\n",
            "Train Error:  0.4314214463840399\n",
            "Test Accuracy:  0.5697674418604651\n",
            "Test Error:  0.43023255813953487\n"
          ],
          "name": "stdout"
        }
      ]
    },
    {
      "metadata": {
        "id": "GZ9UmKMrt6cP",
        "colab_type": "code",
        "outputId": "2896b10d-afbf-4766-e567-2b19f5912139",
        "colab": {
          "base_uri": "https://localhost:8080/",
          "height": 1258
        }
      },
      "cell_type": "code",
      "source": [
        "#feature selection\n",
        "\n",
        "# Now we can find log probabilities of different features for both the classes\n",
        "class_features = bnb.feature_log_prob_\n",
        "\n",
        "#  row_0 is for 'love' class, row_1 is for 'mythology' class & row_2 is for 'nature' class\n",
        "love_features = class_features[0]\n",
        "mythology_features = class_features[1]\n",
        "nature_features = class_features[2]\n",
        "\n",
        "# Getting all feature names\n",
        "feature_names = tf_idf_vect.get_feature_names()\n",
        "\n",
        "# Sorting 'love_features', 'mythology_features' & 'love_features' in descending order using argsort() function\n",
        "sorted_love_features = np.argsort(love_features)[::-1]\n",
        "sorted_mythology_features = np.argsort(mythology_features)[::-1]\n",
        "sorted_nature_features = np.argsort(nature_features)[::-1]\n",
        "\n",
        "print(\"Top 20 Important Features and their log probabilities For love Class :\\n\\n\")\n",
        "for i in list(sorted_love_features[0:20]):\n",
        "    print(\"%s\\t -->\\t%f  \"%(feature_names[i],love_features[i]))\n",
        "    \n",
        "print(\"\\n\\nTop 20 Important Features and their log probabilities For mythology Class :\\n\\n\")\n",
        "for i in list(sorted_mythology_features[0:20]):\n",
        "    print(\"%s\\t -->\\t%f  \"%(feature_names[i],mythology_features[i]))\n",
        "    \n",
        "print(\"\\n\\nTop 20 Important Features and their log probabilities For nature Class :\\n\\n\")\n",
        "for i in list(sorted_nature_features[0:20]):\n",
        "    print(\"%s\\t -->\\t%f  \"%(feature_names[i],nature_features[i]))    "
      ],
      "execution_count": 36,
      "outputs": [
        {
          "output_type": "stream",
          "text": [
            "Top 20 Important Features and their log probabilities For love Class :\n",
            "\n",
            "\n",
            "love\t -->\t-0.528032  \n",
            "eye\t -->\t-1.070282  \n",
            "make\t -->\t-1.161583  \n",
            "thi\t -->\t-1.161583  \n",
            "thou\t -->\t-1.210562  \n",
            "shall\t -->\t-1.210562  \n",
            "may\t -->\t-1.235982  \n",
            "doth\t -->\t-1.248938  \n",
            "like\t -->\t-1.262065  \n",
            "hath\t -->\t-1.262065  \n",
            "heart\t -->\t-1.262065  \n",
            "yet\t -->\t-1.262065  \n",
            "sweet\t -->\t-1.262065  \n",
            "beauti\t -->\t-1.302511  \n",
            "sinc\t -->\t-1.316365  \n",
            "one\t -->\t-1.330413  \n",
            "let\t -->\t-1.330413  \n",
            "time\t -->\t-1.344662  \n",
            "still\t -->\t-1.373783  \n",
            "fair\t -->\t-1.388668  \n",
            "\n",
            "\n",
            "Top 20 Important Features and their log probabilities For mythology Class :\n",
            "\n",
            "\n",
            "one\t -->\t-0.874535  \n",
            "great\t -->\t-0.874535  \n",
            "love\t -->\t-0.905610  \n",
            "like\t -->\t-0.905610  \n",
            "make\t -->\t-0.905610  \n",
            "made\t -->\t-0.937681  \n",
            "day\t -->\t-0.970816  \n",
            "upon\t -->\t-0.970816  \n",
            "shall\t -->\t-0.970816  \n",
            "beauti\t -->\t-0.970816  \n",
            "may\t -->\t-0.970816  \n",
            "might\t -->\t-0.970816  \n",
            "old\t -->\t-1.005086  \n",
            "publish\t -->\t-1.005086  \n",
            "let\t -->\t-1.005086  \n",
            "permiss\t -->\t-1.005086  \n",
            "long\t -->\t-1.005086  \n",
            "new\t -->\t-1.005086  \n",
            "till\t -->\t-1.005086  \n",
            "eye\t -->\t-1.005086  \n",
            "\n",
            "\n",
            "Top 20 Important Features and their log probabilities For nature Class :\n",
            "\n",
            "\n",
            "permiss\t -->\t-1.066358  \n",
            "copyright\t -->\t-1.135730  \n",
            "poem\t -->\t-1.210276  \n",
            "like\t -->\t-1.270075  \n",
            "love\t -->\t-1.270075  \n",
            "come\t -->\t-1.333679  \n",
            "see\t -->\t-1.333679  \n",
            "still\t -->\t-1.355812  \n",
            "eye\t -->\t-1.355812  \n",
            "day\t -->\t-1.355812  \n",
            "upon\t -->\t-1.378446  \n",
            "long\t -->\t-1.378446  \n",
            "may\t -->\t-1.378446  \n",
            "shall\t -->\t-1.378446  \n",
            "reprint\t -->\t-1.401604  \n",
            "reprint permiss\t -->\t-1.401604  \n",
            "poem copyright\t -->\t-1.425312  \n",
            "night\t -->\t-1.425312  \n",
            "light\t -->\t-1.449595  \n",
            "one\t -->\t-1.449595  \n"
          ],
          "name": "stdout"
        }
      ]
    },
    {
      "metadata": {
        "id": "y-9hptCCJSxQ",
        "colab_type": "code",
        "outputId": "d15d7ee6-201c-4b24-b5f4-b4db6229da6a",
        "colab": {
          "base_uri": "https://localhost:8080/",
          "height": 153
        }
      },
      "cell_type": "code",
      "source": [
        "#evaluating confusion matrix for train and test\n",
        "from sklearn.metrics import confusion_matrix\n",
        "print(\"Train confusion matrix\")\n",
        "print(confusion_matrix(y_train, bnb.predict(tf_idf_x_train)))\n",
        "print(\"Test confusion matrix\")\n",
        "print(confusion_matrix(y_test, bnb.predict(tf_idf_x_test)))"
      ],
      "execution_count": 37,
      "outputs": [
        {
          "output_type": "stream",
          "text": [
            "Train confusion matrix\n",
            "[[228   0   0]\n",
            " [ 39   0   0]\n",
            " [134   0   0]]\n",
            "Test confusion matrix\n",
            "[[98  0  0]\n",
            " [20  0  0]\n",
            " [54  0  0]]\n"
          ],
          "name": "stdout"
        }
      ]
    },
    {
      "metadata": {
        "id": "cvkDxx7rN2vi",
        "colab_type": "text"
      },
      "cell_type": "markdown",
      "source": [
        "####Observation : \n",
        "1. Hyperparameter (alpha) = 19.683\n",
        "2. Train Accuracy =  0.5685785536159601\n",
        "3. Test Accuracy = 0.5697674418604651"
      ]
    },
    {
      "metadata": {
        "id": "jwYYqP2Xl75k",
        "colab_type": "text"
      },
      "cell_type": "markdown",
      "source": [
        "##5. Applying Multinomial Naive Bayes\n",
        "\n",
        "###5.1. on Bag of Words"
      ]
    },
    {
      "metadata": {
        "id": "tMQLBx_14VPQ",
        "colab_type": "code",
        "outputId": "bfcc4fc2-6804-4fb6-cba6-1bb8d3b3eb57",
        "colab": {
          "base_uri": "https://localhost:8080/",
          "height": 313
        }
      },
      "cell_type": "code",
      "source": [
        "from sklearn.naive_bayes import MultinomialNB\n",
        "\n",
        "#taking alpha values from 10^-3 to 10^3\n",
        "alpha_values = []\n",
        "i = 0.001\n",
        "while(i<=1000):\n",
        "    alpha_values.append(np.round(i,3))\n",
        "    i *= 3\n",
        "    \n",
        "cv_scores = [] #list to keep cross validate score\n",
        "for k in tqdm(alpha_values):\n",
        "    bnb = MultinomialNB(alpha=k)\n",
        "    scores = cross_val_score(bnb, bow_x_train, y_train, cv=10, scoring='accuracy', n_jobs=-1) #cv = 10 to perform 10 fold cross validation \n",
        "    cv_scores.append(scores.mean())\n",
        "\n",
        "#calculating Mssclassification error    \n",
        "error = [1 - x for x in cv_scores]\n",
        "\n",
        "#determing optimal alpha with least missclassification error value\n",
        "optimal_alpha = alpha_values[error.index(min(error))]\n",
        "print(optimal_alpha)\n",
        "\n",
        "#graph between missclassification error and hyperparameter values \n",
        "plt.plot(alpha_values, error)\n",
        "xy = (optimal_alpha, min(error))\n",
        "plt.annotate('(%s, %s)' % xy, xy = xy, textcoords='data')\n",
        "plt.xlabel(\"Number of neighbours 'k'\")\n",
        "plt.ylabel(\"Misclassification Error\")\n",
        "plt.show()\n",
        "    "
      ],
      "execution_count": 38,
      "outputs": [
        {
          "output_type": "stream",
          "text": [
            "100%|██████████| 13/13 [00:01<00:00,  3.90it/s]\n"
          ],
          "name": "stderr"
        },
        {
          "output_type": "stream",
          "text": [
            "2.187\n"
          ],
          "name": "stdout"
        },
        {
          "output_type": "display_data",
          "data": {
            "image/png": "[encoded data removed]",
            "text/plain": [
              "<Figure size 432x288 with 1 Axes>"
            ]
          },
          "metadata": {
            "tags": []
          }
        }
      ]
    },
    {
      "metadata": {
        "id": "5P3DvFI7mgZx",
        "colab_type": "code",
        "outputId": "ac1bc6c5-3b75-4c4d-c2ce-0a5bcf8c4023",
        "colab": {
          "base_uri": "https://localhost:8080/",
          "height": 85
        }
      },
      "cell_type": "code",
      "source": [
        "#applying Bernoulli Naive Bayes on the optimal alpha calculated (2.187)\n",
        "\n",
        "#initiate model\n",
        "bnb = MultinomialNB(alpha = optimal_alpha)\n",
        "\n",
        "#fit model\n",
        "bnb.fit(bow_x_train, y_train)\n",
        "\n",
        "#predicting values for test data\n",
        "y_test_pred =  bnb.predict(bow_x_test)\n",
        "\n",
        "#calculating accuracy of model\n",
        "train_acc = bnb.score(bow_x_train, y_train) #train accuracy\n",
        "train_error = 1 - train_acc #train error\n",
        "test_acc = accuracy_score(y_test, y_test_pred) #test accuracy\n",
        "test_error = 1 - test_acc #test error\n",
        "\n",
        "print(\"Training Accuracy: \", train_acc)\n",
        "print(\"Train Error: \", train_error)\n",
        "print(\"Test Accuracy: \", test_acc)\n",
        "print(\"Test Error: \", test_error)"
      ],
      "execution_count": 40,
      "outputs": [
        {
          "output_type": "stream",
          "text": [
            "Training Accuracy:  0.8428927680798005\n",
            "Train Error:  0.15710723192019949\n",
            "Test Accuracy:  0.6395348837209303\n",
            "Test Error:  0.36046511627906974\n"
          ],
          "name": "stdout"
        }
      ]
    },
    {
      "metadata": {
        "id": "uvhtYwHxmrJg",
        "colab_type": "code",
        "outputId": "781d140d-bd0f-4f5e-8594-2abece7ae81d",
        "colab": {
          "base_uri": "https://localhost:8080/",
          "height": 1258
        }
      },
      "cell_type": "code",
      "source": [
        "#feature selection\n",
        "\n",
        "# Now we can find log probabilities of different features for both the classes\n",
        "class_features = bnb.feature_log_prob_\n",
        "\n",
        "#  row_0 is for 'love' class, row_1 is for 'mythology' class & row_2 is for 'nature' class\n",
        "love_features = class_features[0]\n",
        "mythology_features = class_features[1]\n",
        "nature_features = class_features[2]\n",
        "\n",
        "# Getting all feature names\n",
        "feature_names = tf_idf_vect.get_feature_names()\n",
        "\n",
        "# Sorting 'love_features', 'mythology_features' & 'love_features' in descending order using argsort() function\n",
        "sorted_love_features = np.argsort(love_features)[::-1]\n",
        "sorted_mythology_features = np.argsort(mythology_features)[::-1]\n",
        "sorted_nature_features = np.argsort(nature_features)[::-1]\n",
        "\n",
        "print(\"Top 20 Important Features and their log probabilities For love Class :\\n\\n\")\n",
        "for i in list(sorted_love_features[0:20]):\n",
        "    print(\"%s\\t -->\\t%f  \"%(feature_names[i],love_features[i]))\n",
        "    \n",
        "print(\"\\n\\nTop 20 Important Features and their log probabilities For mythology Class :\\n\\n\")\n",
        "for i in list(sorted_mythology_features[0:20]):\n",
        "    print(\"%s\\t -->\\t%f  \"%(feature_names[i],mythology_features[i]))\n",
        "    \n",
        "print(\"\\n\\nTop 20 Important Features and their log probabilities For nature Class :\\n\\n\")\n",
        "for i in list(sorted_nature_features[0:20]):\n",
        "    print(\"%s\\t -->\\t%f  \"%(feature_names[i],nature_features[i]))    "
      ],
      "execution_count": 41,
      "outputs": [
        {
          "output_type": "stream",
          "text": [
            "Top 20 Important Features and their log probabilities For love Class :\n",
            "\n",
            "\n",
            "broad blade\t -->\t-4.394692  \n",
            "cruelti\t -->\t-4.959843  \n",
            "cuckoo palm\t -->\t-5.046357  \n",
            "bedeck fyne\t -->\t-5.510793  \n",
            "briggflatt part\t -->\t-5.576831  \n",
            "crown honour\t -->\t-5.611560  \n",
            "compar pure\t -->\t-5.620434  \n",
            "care world\t -->\t-5.629388  \n",
            "baser thing\t -->\t-5.629388  \n",
            "demur suit\t -->\t-5.753728  \n",
            "alack one\t -->\t-5.753728  \n",
            "brest\t -->\t-5.774307  \n",
            "bee sting\t -->\t-5.774307  \n",
            "blood puls\t -->\t-5.805993  \n",
            "brought march\t -->\t-5.827689  \n",
            "build clothd\t -->\t-5.827689  \n",
            "cupid seen\t -->\t-6.007411  \n",
            "blond\t -->\t-6.007411  \n",
            "countnanc\t -->\t-6.020623  \n",
            "cressi\t -->\t-6.061342  \n",
            "\n",
            "\n",
            "Top 20 Important Features and their log probabilities For mythology Class :\n",
            "\n",
            "\n",
            "broad blade\t -->\t-5.883670  \n",
            "cuckoo palm\t -->\t-6.120381  \n",
            "care world\t -->\t-6.170159  \n",
            "briggflatt part\t -->\t-6.222544  \n",
            "cruelti\t -->\t-6.277827  \n",
            "blackbird three\t -->\t-6.499643  \n",
            "aye\t -->\t-6.535765  \n",
            "brought march\t -->\t-6.573241  \n",
            "day bridal\t -->\t-6.652688  \n",
            "build clothd\t -->\t-6.694912  \n",
            "cupid dart\t -->\t-6.738997  \n",
            "bee sting\t -->\t-6.738997  \n",
            "compar pure\t -->\t-6.785116  \n",
            "baser thing\t -->\t-6.785116  \n",
            "brest\t -->\t-6.833465  \n",
            "cressi\t -->\t-6.833465  \n",
            "bring flame\t -->\t-6.833465  \n",
            "demur suit\t -->\t-6.884271  \n",
            "black doth\t -->\t-6.884271  \n",
            "crown honour\t -->\t-6.884271  \n",
            "\n",
            "\n",
            "Top 20 Important Features and their log probabilities For nature Class :\n",
            "\n",
            "\n",
            "broad blade\t -->\t-5.575409  \n",
            "briggflatt part\t -->\t-5.814981  \n",
            "cruelti\t -->\t-5.814981  \n",
            "cuckoo palm\t -->\t-6.002482  \n",
            "compar pure\t -->\t-6.092330  \n",
            "care world\t -->\t-6.212026  \n",
            "baser thing\t -->\t-6.212026  \n",
            "aye\t -->\t-6.212026  \n",
            "day bridal\t -->\t-6.255335  \n",
            "build clothd\t -->\t-6.277714  \n",
            "coral lip\t -->\t-6.277714  \n",
            "blood puls\t -->\t-6.300605  \n",
            "certainti conscienc\t -->\t-6.324032  \n",
            "art dead\t -->\t-6.324032  \n",
            "come year\t -->\t-6.372601  \n",
            "aspyr\t -->\t-6.372601  \n",
            "bedeck fyne\t -->\t-6.397799  \n",
            "bring flame\t -->\t-6.450185  \n",
            "countnanc\t -->\t-6.450185  \n",
            "demur suit\t -->\t-6.450185  \n"
          ],
          "name": "stdout"
        }
      ]
    },
    {
      "metadata": {
        "id": "9LVTx50Wm53p",
        "colab_type": "code",
        "outputId": "b027ba21-7eee-4711-d54a-63414db4e220",
        "colab": {
          "base_uri": "https://localhost:8080/",
          "height": 153
        }
      },
      "cell_type": "code",
      "source": [
        "#evaluating confusion matrix for train and test\n",
        "from sklearn.metrics import confusion_matrix\n",
        "print(\"Train confusion matrix\")\n",
        "print(confusion_matrix(y_train, bnb.predict(bow_x_train)))\n",
        "print(\"Test confusion matrix\")\n",
        "print(confusion_matrix(y_test, bnb.predict(bow_x_test)))"
      ],
      "execution_count": 42,
      "outputs": [
        {
          "output_type": "stream",
          "text": [
            "Train confusion matrix\n",
            "[[215   1  12]\n",
            " [ 15  18   6]\n",
            " [ 28   1 105]]\n",
            "Test confusion matrix\n",
            "[[88  2  8]\n",
            " [13  1  6]\n",
            " [30  3 21]]\n"
          ],
          "name": "stdout"
        }
      ]
    },
    {
      "metadata": {
        "id": "QNgt-U3QOQaO",
        "colab_type": "text"
      },
      "cell_type": "markdown",
      "source": [
        "####Observation : \n",
        "1. Hyperparameter (alpha) = 2.187\n",
        "2. Train Accuracy = 0.8428927680798005\n",
        "3. Test Accuracy = 0.6395348837209303"
      ]
    },
    {
      "metadata": {
        "id": "V508zifpncTE",
        "colab_type": "text"
      },
      "cell_type": "markdown",
      "source": [
        "###5.2. on TF-IDF"
      ]
    },
    {
      "metadata": {
        "id": "YhnudmzOm_6x",
        "colab_type": "code",
        "outputId": "857effa9-ed0d-4382-ac0b-911b2f0de127",
        "colab": {
          "base_uri": "https://localhost:8080/",
          "height": 313
        }
      },
      "cell_type": "code",
      "source": [
        "#taking alpha values from 10^-3 to 10^3\n",
        "alpha_values = []\n",
        "i = 0.001\n",
        "while(i<=1000):\n",
        "    alpha_values.append(np.round(i,3))\n",
        "    i *= 3\n",
        "    \n",
        "cv_scores = [] #list to keep cross validate score\n",
        "for k in tqdm(alpha_values):\n",
        "    bnb = MultinomialNB(alpha=k)\n",
        "    scores = cross_val_score(bnb, tf_idf_x_train, y_train, cv=10, scoring='accuracy', n_jobs=-1) #cv = 10 to perform 10 fold cross validation \n",
        "    cv_scores.append(scores.mean())\n",
        "\n",
        "#calculating Mssclassification error    \n",
        "error = [1 - x for x in cv_scores]\n",
        "\n",
        "#determing optimal alpha with least missclassification error value\n",
        "optimal_alpha = alpha_values[error.index(min(error))]\n",
        "print(optimal_alpha)\n",
        "\n",
        "#graph between missclassification error and hyperparameter values \n",
        "plt.plot(alpha_values, error)\n",
        "xy = (optimal_alpha, min(error))\n",
        "plt.annotate('(%s, %s)' % xy, xy = xy, textcoords='data')\n",
        "plt.xlabel(\"Number of neighbours 'k'\")\n",
        "plt.ylabel(\"Misclassification Error\")\n",
        "plt.show()"
      ],
      "execution_count": 43,
      "outputs": [
        {
          "output_type": "stream",
          "text": [
            "100%|██████████| 13/13 [00:00<00:00, 13.25it/s]\n"
          ],
          "name": "stderr"
        },
        {
          "output_type": "stream",
          "text": [
            "0.081\n"
          ],
          "name": "stdout"
        },
        {
          "output_type": "display_data",
          "data": {
            "image/png": "[encoded data removed]",
            "text/plain": [
              "<Figure size 432x288 with 1 Axes>"
            ]
          },
          "metadata": {
            "tags": []
          }
        }
      ]
    },
    {
      "metadata": {
        "id": "8xHnAU_4nuYD",
        "colab_type": "code",
        "outputId": "85b5cfe0-dbc4-42bc-e6f9-2488922322c8",
        "colab": {
          "base_uri": "https://localhost:8080/",
          "height": 85
        }
      },
      "cell_type": "code",
      "source": [
        "#applying Bernoulli Naive Bayes on the optimal alpha calculated (0.081)\n",
        "\n",
        "#initiate model\n",
        "bnb = MultinomialNB(alpha = optimal_alpha)\n",
        "\n",
        "#fit model\n",
        "bnb.fit(tf_idf_x_train, y_train)\n",
        "\n",
        "#predicting values for test data\n",
        "y_test_pred =  bnb.predict(tf_idf_x_test)\n",
        "\n",
        "#calculating accuracy of model\n",
        "train_acc = bnb.score(tf_idf_x_train, y_train) #train accuracy\n",
        "train_error = 1 - train_acc #train error\n",
        "test_acc = accuracy_score(y_test, y_test_pred) #test accuracy\n",
        "test_error = 1 - test_acc #test error\n",
        "\n",
        "print(\"Training Accuracy: \", train_acc)\n",
        "print(\"Train Error: \", train_error)\n",
        "print(\"Test Accuracy: \", test_acc)\n",
        "print(\"Test Error: \", test_error)"
      ],
      "execution_count": 44,
      "outputs": [
        {
          "output_type": "stream",
          "text": [
            "Training Accuracy:  0.9002493765586035\n",
            "Train Error:  0.09975062344139651\n",
            "Test Accuracy:  0.5930232558139535\n",
            "Test Error:  0.40697674418604646\n"
          ],
          "name": "stdout"
        }
      ]
    },
    {
      "metadata": {
        "id": "DIswRRuHoBJe",
        "colab_type": "code",
        "outputId": "a3042ec2-965e-49d7-e462-638cd4caf734",
        "colab": {
          "base_uri": "https://localhost:8080/",
          "height": 1258
        }
      },
      "cell_type": "code",
      "source": [
        "#feature selection\n",
        "\n",
        "# Now we can find log probabilities of different features for both the classes\n",
        "class_features = bnb.feature_log_prob_\n",
        "\n",
        "#  row_0 is for 'love' class, row_1 is for 'mythology' class & row_2 is for 'nature' class\n",
        "love_features = class_features[0]\n",
        "mythology_features = class_features[1]\n",
        "nature_features = class_features[2]\n",
        "\n",
        "# Getting all feature names\n",
        "feature_names = tf_idf_vect.get_feature_names()\n",
        "\n",
        "# Sorting 'love_features', 'mythology_features' & 'love_features' in descending order using argsort() function\n",
        "sorted_love_features = np.argsort(love_features)[::-1]\n",
        "sorted_mythology_features = np.argsort(mythology_features)[::-1]\n",
        "sorted_nature_features = np.argsort(nature_features)[::-1]\n",
        "\n",
        "print(\"Top 20 Important Features and their log probabilities For love Class :\\n\\n\")\n",
        "for i in list(sorted_love_features[0:20]):\n",
        "    print(\"%s\\t -->\\t%f  \"%(feature_names[i],love_features[i]))\n",
        "    \n",
        "print(\"\\n\\nTop 20 Important Features and their log probabilities For mythology Class :\\n\\n\")\n",
        "for i in list(sorted_mythology_features[0:20]):\n",
        "    print(\"%s\\t -->\\t%f  \"%(feature_names[i],mythology_features[i]))\n",
        "    \n",
        "print(\"\\n\\nTop 20 Important Features and their log probabilities For nature Class :\\n\\n\")\n",
        "for i in list(sorted_nature_features[0:20]):\n",
        "    print(\"%s\\t -->\\t%f  \"%(feature_names[i],nature_features[i]))    "
      ],
      "execution_count": 45,
      "outputs": [
        {
          "output_type": "stream",
          "text": [
            "Top 20 Important Features and their log probabilities For love Class :\n",
            "\n",
            "\n",
            "love\t -->\t-6.280124  \n",
            "thi\t -->\t-6.520526  \n",
            "thou\t -->\t-6.597250  \n",
            "thee\t -->\t-7.091325  \n",
            "eye\t -->\t-7.184852  \n",
            "doth\t -->\t-7.188931  \n",
            "one\t -->\t-7.206869  \n",
            "shall\t -->\t-7.241412  \n",
            "let\t -->\t-7.277944  \n",
            "heart\t -->\t-7.320161  \n",
            "beauti\t -->\t-7.337618  \n",
            "like\t -->\t-7.342915  \n",
            "yet\t -->\t-7.350341  \n",
            "may\t -->\t-7.409341  \n",
            "fair\t -->\t-7.414659  \n",
            "make\t -->\t-7.418263  \n",
            "time\t -->\t-7.500112  \n",
            "sweet\t -->\t-7.517855  \n",
            "sinc\t -->\t-7.526067  \n",
            "hath\t -->\t-7.544465  \n",
            "\n",
            "\n",
            "Top 20 Important Features and their log probabilities For mythology Class :\n",
            "\n",
            "\n",
            "ezra pound\t -->\t-7.202997  \n",
            "ezra\t -->\t-7.202997  \n",
            "pound\t -->\t-7.213779  \n",
            "canto\t -->\t-7.590927  \n",
            "publish\t -->\t-7.966770  \n",
            "one\t -->\t-8.079548  \n",
            "permiss\t -->\t-8.180994  \n",
            "canto ezra\t -->\t-8.233241  \n",
            "pound copyright\t -->\t-8.233241  \n",
            "pound reprint\t -->\t-8.233241  \n",
            "pound canto\t -->\t-8.233241  \n",
            "copyright ezra\t -->\t-8.233241  \n",
            "thou\t -->\t-8.282195  \n",
            "new\t -->\t-8.293173  \n",
            "copyright\t -->\t-8.304048  \n",
            "new direct\t -->\t-8.310433  \n",
            "direct publish\t -->\t-8.310433  \n",
            "permiss new\t -->\t-8.310433  \n",
            "reprint permiss\t -->\t-8.325623  \n",
            "reprint\t -->\t-8.332299  \n",
            "\n",
            "\n",
            "Top 20 Important Features and their log probabilities For nature Class :\n",
            "\n",
            "\n",
            "permiss\t -->\t-6.925160  \n",
            "copyright\t -->\t-6.931429  \n",
            "michael\t -->\t-6.949564  \n",
            "poem\t -->\t-6.991839  \n",
            "anania\t -->\t-7.063084  \n",
            "michael anania\t -->\t-7.063084  \n",
            "poem copyright\t -->\t-7.197069  \n",
            "reprint permiss\t -->\t-7.341680  \n",
            "select\t -->\t-7.346637  \n",
            "reprint\t -->\t-7.348930  \n",
            "use permiss\t -->\t-7.433097  \n",
            "publish\t -->\t-7.475458  \n",
            "archibald\t -->\t-7.507520  \n",
            "macleish\t -->\t-7.507520  \n",
            "archibald macleish\t -->\t-7.507520  \n",
            "coteri\t -->\t-7.527134  \n",
            "love\t -->\t-7.543981  \n",
            "select poem\t -->\t-7.562777  \n",
            "use\t -->\t-7.570057  \n",
            "press\t -->\t-7.604799  \n"
          ],
          "name": "stdout"
        }
      ]
    },
    {
      "metadata": {
        "id": "TjFy9YzFoK0y",
        "colab_type": "code",
        "outputId": "897b3dfc-07be-4458-a5d1-048a151ed8ea",
        "colab": {
          "base_uri": "https://localhost:8080/",
          "height": 153
        }
      },
      "cell_type": "code",
      "source": [
        "#evaluating confusion matrix for train and test\n",
        "from sklearn.metrics import confusion_matrix\n",
        "print(\"Train confusion matrix\")\n",
        "print(confusion_matrix(y_train, bnb.predict(tf_idf_x_train)))\n",
        "print(\"Test confusion matrix\")\n",
        "print(confusion_matrix(y_test, bnb.predict(tf_idf_x_test)))"
      ],
      "execution_count": 46,
      "outputs": [
        {
          "output_type": "stream",
          "text": [
            "Train confusion matrix\n",
            "[[211   3  14]\n",
            " [  4  29   6]\n",
            " [ 11   2 121]]\n",
            "Test confusion matrix\n",
            "[[87  3  8]\n",
            " [14  1  5]\n",
            " [36  4 14]]\n"
          ],
          "name": "stdout"
        }
      ]
    },
    {
      "metadata": {
        "id": "I7s1y5P-OxoG",
        "colab_type": "text"
      },
      "cell_type": "markdown",
      "source": [
        "####Observation : \n",
        "1. Hyperparameter (alpha) = 0.081\n",
        "2. Train Accuracy = 0.9002493765586035\n",
        "3. Test Accuracy =  0.5930232558139535"
      ]
    },
    {
      "metadata": {
        "id": "5zHmx1mOL5U6",
        "colab_type": "text"
      },
      "cell_type": "markdown",
      "source": [
        "##6. Conclusion\n"
      ]
    },
    {
      "metadata": {
        "id": "cYbRiPF3Kwh9",
        "colab_type": "code",
        "colab": {}
      },
      "cell_type": "code",
      "source": [
        "!sudo pip3 install PTable"
      ],
      "execution_count": 0,
      "outputs": []
    },
    {
      "metadata": {
        "id": "cuUzlvkYL_cK",
        "colab_type": "code",
        "outputId": "5ba76a5e-a036-4a5a-a2d5-e5cd3d922646",
        "colab": {
          "base_uri": "https://localhost:8080/",
          "height": 153
        }
      },
      "cell_type": "code",
      "source": [
        "from prettytable import PrettyTable\n",
        "    \n",
        "x = PrettyTable()\n",
        "\n",
        "x.field_names = [\"Model\", \"Hyperparameter (alpha)\", \"Train Accuracy\", \"Test Accuracy\"]\n",
        "\n",
        "x.add_row([\"BOW (bernoulliNB)\", 0.009, 0.8802992518703242, 0.627906976744186])\n",
        "x.add_row([\"TF-IDF (bernoulliNB)\", 19.683, 0.5685785536159601, 0.5697674418604651])\n",
        "x.add_row([\"BOW (MultinomialNB)\", 2.187, 0.8428927680798005, 0.6395348837209303])\n",
        "x.add_row([\"TF-IDF (MultinomialNB)\", 0.081, 0.9002493765586035,  0.5930232558139535])\n",
        "\n",
        "print(x)"
      ],
      "execution_count": 48,
      "outputs": [
        {
          "output_type": "stream",
          "text": [
            "+------------------------+------------------------+--------------------+--------------------+\n",
            "|         Model          | Hyperparameter (alpha) |   Train Accuracy   |   Test Accuracy    |\n",
            "+------------------------+------------------------+--------------------+--------------------+\n",
            "|   BOW (bernoulliNB)    |         0.009          | 0.8802992518703242 | 0.627906976744186  |\n",
            "|  TF-IDF (bernoulliNB)  |         19.683         | 0.5685785536159601 | 0.5697674418604651 |\n",
            "|  BOW (MultinomialNB)   |         2.187          | 0.8428927680798005 | 0.6395348837209303 |\n",
            "| TF-IDF (MultinomialNB) |         0.081          | 0.9002493765586035 | 0.5930232558139535 |\n",
            "+------------------------+------------------------+--------------------+--------------------+\n"
          ],
          "name": "stdout"
        }
      ]
    },
    {
      "metadata": {
        "id": "lkphzWhjQpq7",
        "colab_type": "text"
      },
      "cell_type": "markdown",
      "source": [
        "After the analysis of 573 data points we conclude that the best model is when we apply **Multinomial Naive Bayes on BOW** with\n",
        "\n",
        "**Hyperparameter (K) = 2.187**\n",
        "\n",
        "**Training Accuracy = 84.28927680798005%**\n",
        "\n",
        "**Test Accuracy = 63.95348837209303%**"
      ]
    }
  ]
}